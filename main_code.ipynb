{
 "cells": [
  {
   "cell_type": "code",
   "execution_count": 621,
   "id": "a401e32f-d40e-4395-b15c-53fcd689874a",
   "metadata": {},
   "outputs": [],
   "source": [
    "import numpy as np\n",
    "from numpy.random import normal\n",
    "import matplotlib.pyplot as plt\n",
    "import math\n",
    "from math import pi\n",
    "import itertools\n",
    "import CUDAPython as CP\n",
    "%matplotlib inline"
   ]
  },
  {
   "cell_type": "code",
   "execution_count": 2,
   "id": "9a0e81cf-f4dc-4f1d-b5f6-e13746665717",
   "metadata": {},
   "outputs": [],
   "source": [
    "#sets number of levels (k) and number of fermions (m)\n",
    "k = 10\n",
    "m = 5"
   ]
  },
  {
   "cell_type": "markdown",
   "id": "08d291f6-ae13-409e-a036-14a76ef19fb5",
   "metadata": {},
   "source": [
    "'''DEFINING FUNCTIONS BELOW'''"
   ]
  },
  {
   "cell_type": "code",
   "execution_count": 773,
   "id": "e07d0fac-5ad2-41d8-99ee-ab5cf5056950",
   "metadata": {},
   "outputs": [],
   "source": [
    "def generate_energies(k):\n",
    "    '''generates ordered array of k distinct energy levels'''\n",
    "    energies = np.empty(k)\n",
    "    count=0\n",
    "    while(count!=k):\n",
    "        energies[count]=normal(0,1) #samples a normal distribution k times\n",
    "        count+=1\n",
    "    return np.sort(energies) #output is a scaled, sorted array of size k\n",
    "\n",
    "def size(k, m):\n",
    "    '''determines the number of combination of m fermions on k energy levels'''\n",
    "    return int(math.factorial(k)/((math.factorial(k-m))*(math.factorial(m))))\n",
    "\n",
    "def ground_state(k, m):\n",
    "    '''initialises a ground state based on number of fermions (m) and number of energy levels (k)\n",
    "    \n",
    "    e.g. for k=10, m=5:\n",
    "    ground state is [1,1,1,1,1,0,0,0,0,0]'''\n",
    "    state = np.zeros(k, dtype=int)\n",
    "    for i in range(m):\n",
    "        state[i] = 1\n",
    "    return state\n",
    "\n",
    "def permutations(state):\n",
    "    '''returns a list of possible permutations of a given binary state'''\n",
    "    return list(set(itertools.permutations(state)))   \n",
    "\n",
    "def time_step(init_state, sigma_w):\n",
    "    '''Determines the time step to compute the time evolution using the Fermi Golden Rule'''\n",
    "    dt = 0\n",
    "    if init_state==0:\n",
    "        dE = D[init_state+1][init_state+1] - D[init_state][init_state]\n",
    "    else:\n",
    "        dE = D[init_state][init_state] - D[init_state-1][init_state-1]\n",
    "    \n",
    "    f = 2*pi*sigma_w**2*(1/dE) #fermi golden rule (approximation)\n",
    "    \n",
    "    return 1/(f*10)\n",
    "\n",
    "#need time evolution of the D matrix\n",
    "def D_evo(dt):\n",
    "    '''Function that produces the D matrix for a given time t (time evolution of D matrix)'''\n",
    "    D_ev = np.zeros((size(k,m), size(k,m)), dtype=complex)\n",
    "    \n",
    "    for x in range(size(k,m)):\n",
    "        D_ev[x][x] = np.exp(-1j*D[x][x]*dt) #calculates time evolution of the diagonal elements, removed factor of 1/hbar\n",
    "    return D_ev\n",
    "\n",
    "def V_t(dt):\n",
    "    '''Evolution operator at time interval dt'''\n",
    "    D_exp = D_evo(dt) #evolution matrix for a time t\n",
    "    left_mat = np.matmul(P, D_exp) #multiplying P*e^D\n",
    "    return np.matmul(left_mat, P_T) #multiplying above by P_T"
   ]
  },
  {
   "cell_type": "code",
   "execution_count": 774,
   "id": "50906355-4065-4248-b7cf-37a1e0577a4b",
   "metadata": {},
   "outputs": [],
   "source": [
    "def next_state(V_t, state):\n",
    "    return np.matmul(V_t, state)"
   ]
  },
  {
   "cell_type": "code",
   "execution_count": 775,
   "id": "85d06b0d-73b7-4cca-9a6b-5de8c1d9aeae",
   "metadata": {},
   "outputs": [],
   "source": [
    "def coefs(state):\n",
    "    state_conj = np.conj(state)\n",
    "    coefficients = np.empty(size(k,m))\n",
    "    \n",
    "    for i in range(size(k,m)):\n",
    "        coefficients[i] = (np.dot(state[i], state_conj[i])).real\n",
    "    return coefficients"
   ]
  },
  {
   "cell_type": "code",
   "execution_count": 776,
   "id": "72b8e934-d74f-43c5-8db1-cc7b595de5d5",
   "metadata": {},
   "outputs": [],
   "source": [
    "def occupation_number(state, lev):\n",
    "    _sum=0\n",
    "    coef = coefs(state)\n",
    "    \n",
    "    for i in range(size(k,m)):\n",
    "        _sum += coef[i]*i_state_map[i][lev]\n",
    "    return _sum"
   ]
  },
  {
   "cell_type": "code",
   "execution_count": 777,
   "id": "70f74be5-0861-4ee0-8714-eec3c6680e6f",
   "metadata": {},
   "outputs": [],
   "source": [
    "def plot_init_state(energies, state):\n",
    "    '''Function that displays a plot of a given state'''\n",
    "    fig, axes = plt.subplots(figsize=((6,12)))\n",
    "    \n",
    "    axes.hlines(energies,0,1,'r', zorder=1, label='Energy level')\n",
    "    axes.scatter(np.full(int(len(energies)/2), 0.5), [energies[i] for i in range(len(energies)) if state[i]==1], color='b', zorder=2, label='Occupied state')\n",
    "    axes.scatter(np.full(int(len(energies)/2), 0.5), [energies[i] for i in range(len(energies)) if state[i]==0], color='b', facecolor='none',  zorder=2, label='Empty state')\n",
    "  \n",
    "    axes.spines['bottom'].set_color('none')\n",
    "    axes.spines['top'].set_color('none')\n",
    "    axes.spines['right'].set_color('none')\n",
    "    axes.set_xticks([])\n",
    "    axes.set_yticks(energies)\n",
    "    axes.set_ylabel('Single fermion levels')\n",
    "    axes.legend()\n",
    "    return"
   ]
  },
  {
   "cell_type": "code",
   "execution_count": 8,
   "id": "a2d686de-8982-4a9d-9a90-73992cde28a1",
   "metadata": {},
   "outputs": [],
   "source": [
    "arr = generate_energies(k)"
   ]
  },
  {
   "cell_type": "markdown",
   "id": "fc83092b-6011-4dc7-999c-d3423276f071",
   "metadata": {},
   "source": [
    "Considering m fermions on k single fermion energy levels:"
   ]
  },
  {
   "cell_type": "code",
   "execution_count": 9,
   "id": "44e2ffd6-4899-4031-b20c-71ebd80281de",
   "metadata": {},
   "outputs": [],
   "source": [
    "state = ground_state(k, m) #initialises ground state"
   ]
  },
  {
   "cell_type": "code",
   "execution_count": 10,
   "id": "3a40909e-6e7d-4554-874a-4428d7442d7b",
   "metadata": {},
   "outputs": [
    {
     "data": {
      "text/plain": [
       "array([1, 1, 1, 1, 1, 0, 0, 0, 0, 0])"
      ]
     },
     "execution_count": 10,
     "metadata": {},
     "output_type": "execute_result"
    }
   ],
   "source": [
    "state"
   ]
  },
  {
   "cell_type": "code",
   "execution_count": 11,
   "id": "88564a13-6819-4e94-8af1-4bf99907b265",
   "metadata": {
    "tags": []
   },
   "outputs": [],
   "source": [
    "states = permutations(state) #list of possible permutations of the ground state\n",
    "\n",
    "energy_state = {} #empty dict for mapping energies to their corresponding state {energy: state}\n",
    "energies = np.empty(size(k,m))\n",
    "\n",
    "for state in range(len(states)): #looping through all possible states\n",
    "    energy = np.dot(states[state],arr) #computes energy of a given state via a dot product; energy and state arrays can be thought of as vectors -> dot product\n",
    "    energies[state] = energy\n",
    "    energy_state[energy] = states[state] #mapping the energy to its given state\n",
    "\n",
    "sorted_energies = np.sort(energies) #sorting the energies in ascending order\n",
    "\n",
    "sorted_dict = {} #empty dict to be used in mapping SORTED energies to their states (useful later)\n",
    "\n",
    "for energy in sorted_energies:\n",
    "    sorted_dict[energy] = energy_state[energy] #mapping sorted energies to their corresponding states\n",
    "    \n",
    "#need to map i to its corresponding state\n",
    "i_state_map = {}\n",
    "sorted_states = list(sorted_dict.values())\n",
    "\n",
    "for i in range(size(k,m)):\n",
    "    i_state_map[i] = sorted_states[i] #looping through all states and adding them to a dictionary i: state_i"
   ]
  },
  {
   "cell_type": "code",
   "execution_count": 12,
   "id": "7a7fd10f-2910-4a70-81c5-7b3a9f9fdbdd",
   "metadata": {},
   "outputs": [
    {
     "data": {
      "text/plain": [
       "Text(0, 0.5, 'Energy eigenvalues')"
      ]
     },
     "execution_count": 12,
     "metadata": {},
     "output_type": "execute_result"
    },
    {
     "data": {
      "image/png": "[encoded data removed]",
      "text/plain": [
       "<Figure size 432x288 with 1 Axes>"
      ]
     },
     "metadata": {
      "needs_background": "light"
     },
     "output_type": "display_data"
    }
   ],
   "source": [
    "fig, axes = plt.subplots()\n",
    "axes.plot(np.linspace(1,size(k,m),size(k,m)),sorted_energies)\n",
    "axes.spines['top'].set_color('none')\n",
    "axes.spines['right'].set_color('none')\n",
    "axes.set_xlabel('State')\n",
    "axes.set_ylabel('Energy eigenvalues')"
   ]
  },
  {
   "cell_type": "code",
   "execution_count": 910,
   "id": "0d2b1064-d932-442c-ad88-642079a3c4a4",
   "metadata": {},
   "outputs": [],
   "source": [
    "sigma_w = 0.01\n",
    "init_state = -1"
   ]
  },
  {
   "cell_type": "code",
   "execution_count": 911,
   "id": "4c603396-2054-48d9-bb77-d45a7a528e6f",
   "metadata": {},
   "outputs": [],
   "source": [
    "H_0 = np.zeros((size(k,m),size(k,m))) #generating a zero matrix which has dimensions of the number of permutations of the initial state\n",
    "\n",
    "for i in range(size(k,m)):\n",
    "    H_0[i][i] = sorted_energies[i] #filling the diagonals with the energy eigenvalues\n",
    "\n",
    "w = np.empty((size(k,m),size(k,m))) #generating an empty matrix with the same dimensions as H_0\n",
    "\n",
    "for i in range(size(k,m)):\n",
    "    for j in range(size(k,m)):\n",
    "        w[i][j] = normal(0,sigma_w) #loops through all possible elements of w and samples a normal distribution, can change variance sigma_w to change strength of interactions\n",
    "\n",
    "w_T = np.transpose(w) #determines the transpose of the matrix w\n",
    "\n",
    "W = (w+w_T)/2 #ensuring that the random matrix W is real and symmetric\n",
    "\n",
    "H = H_0 + W #H is the hamiltonian with interactions due to the random matrix (non-diagonal)\n",
    "\n",
    "#Diagonalisation of H:\n",
    "\n",
    "hCUDA = CP.CUDAContext() #obtain CUDA context (only 1 needed)\n",
    "\n",
    "hCUBLAS = CP.CUBLASContext() \n",
    "hCUBLAS.Create() #create CUBLAS context (for basic linear algebra ops)\n",
    "\n",
    "hCUSolverDense = CP.CUSolverDenseContext()\n",
    "hCUSolverDense.Create() #create CUSolver Context (for dense matrix ops)\n",
    "\n",
    "#allocating memory on the CPU to fit a matrix of size size X size\n",
    "hHostMatrix = CP.CUDAHostMemory()\n",
    "hHostMatrix.Allocate2D(CP.CUDANumericSizeRD, size(k,m), size(k,m), CP.CUDAHostMemoryAllocFlags.PINNED)\n",
    "\n",
    "hHostVector = CP.CUDAHostMemory()\n",
    "hHostVector.Allocate1D(CP.CUDANumericSizeRD, size(k,m), CP.CUDAHostMemoryAllocFlags.PINNED)\n",
    "\n",
    "for i in range(size(k,m)):\n",
    "    for j in range(size(k,m)):\n",
    "        hHostMatrix.WriteRD(CP.CUDAMemoryPosition(i,j,0), H[i][j]) #initialising values\n",
    "\n",
    "#allocating memory on the GPU to fit a matrix of size size X size\n",
    "hDeviceMatrixA = CP.CUDADeviceMemory()\n",
    "hDeviceMatrixA.Allocate2D(CP.CUDANumericSizeRD, size(k,m), size(k,m))\n",
    "\n",
    "hDeviceVectorX = CP.CUDADeviceMemory()\n",
    "hDeviceVectorX.Allocate1D(CP.CUDANumericSizeRD, size(k,m))\n",
    "\n",
    "hCUBLAS.SetMatrix(hDeviceMatrixA, CP.CUDAMemoryPosition(), hHostMatrix, CP.CUDAMemoryPosition(), CP.CUDAMemoryRegion(size(k,m),size(k,m),1)) #copy memory from CPU to GPU\n",
    "hCUDA.WaitForCurrentDevice() #sync\n",
    "\n",
    "#build and setup of solver\n",
    "hEigenSolver = CP.CUSolverDenseEigenValue(hCUSolverDense)\n",
    "hEigenSolver.SetMatrixA(hDeviceMatrixA)\n",
    "hEigenSolver.SetMatrixFillModeA(CP.CUBLASContextFillMode.UPPER)\n",
    "hEigenSolver.SetVectorX(hDeviceVectorX)\n",
    "hEigenSolver.SetAlgorithm(CP.CUSolverDenseEigenValueAlgorithm.QR) #householder reduction method???\n",
    "hEigenSolver.ComputeEigenVectors(True)\n",
    "\n",
    "hEigenSolver.PrepareRD() #allocates workspace memory\n",
    "\n",
    "#solve and sync\n",
    "hEigenSolver.SolveRD()\n",
    "hCUDA.WaitForCurrentDevice()\n",
    "hEigenSolver.UpdateStateAfterSync()\n",
    "\n",
    "#copy memory from GPU to CPU\n",
    "hCUBLAS.GetMatrix(hHostMatrix, CP.CUDAMemoryPosition(), hDeviceMatrixA, CP.CUDAMemoryPosition(), CP.CUDAMemoryRegion(size(k,m), size(k,m), 1))\n",
    "hCUDA.WaitForCurrentDevice()\n",
    "\n",
    "hCUBLAS.GetVector(hHostVector, CP.CUDAMemoryPosition(), hDeviceVectorX, CP.CUDAMemoryPosition(), CP.CUDAMemoryRegion(size(k,m), 1, 1))\n",
    "hCUDA.WaitForCurrentDevice()\n",
    "\n",
    "hPos = CP.CUDAMemoryPosition()\n",
    "\n",
    "D = np.zeros((size(k,m), size(k,m))) #initialising matrix to be used to store the eigenvalues as diagonal elements\n",
    "P = np.zeros((size(k,m), size(k,m))) #initialising basis change matrix (H=PDP^-1)\n",
    "\n",
    "for hPos.iX in range(size(k,m)):\n",
    "    D[hPos.iX][hPos.iX] = hHostVector.ReadRD(hPos) #sets the diagonal elements of the matrix to the eigenvalues computed using the above algorithm\n",
    "\n",
    "#need to prepare P matrix using the eigenvectors given by the above algorithm\n",
    "for hPos.iY in range(size(k,m)):\n",
    "    for hPos.iX in range(size(k,m)):\n",
    "        P[hPos.iY][hPos.iX] = hHostMatrix.ReadRD(hPos)\n",
    "\n",
    "P_T = np.transpose(P)\n",
    "\n",
    "#free memory and destroy contexts\n",
    "hDeviceVectorX.Free()\n",
    "hDeviceMatrixA.Free()\n",
    "hHostVector.Free()\n",
    "hHostMatrix.Free()\n",
    "\n",
    "hCUSolverDense.Destroy()\n",
    "hCUBLAS.Destroy()"
   ]
  },
  {
   "cell_type": "code",
   "execution_count": 912,
   "id": "b95a60a8-763a-4f87-9003-2daaa2f37ac8",
   "metadata": {},
   "outputs": [],
   "source": [
    "#matrix multiplication using CUDA is stored within the test folder\n",
    "#had issues with converting CUDAComplex64 type back to default python dtype\n",
    "#found that matmult using numpy was fast enough to be used (avoided the issue with the dtypes)"
   ]
  },
  {
   "cell_type": "code",
   "execution_count": 913,
   "id": "2d8b06b3-829f-4340-8100-46670c468e98",
   "metadata": {},
   "outputs": [],
   "source": [
    "state = sorted_states[init_state]"
   ]
  },
  {
   "cell_type": "code",
   "execution_count": 914,
   "id": "7110eef8-5143-4893-9811-eb61e2ba4611",
   "metadata": {},
   "outputs": [
    {
     "data": {
      "image/png": "[encoded data removed]",
      "text/plain": [
       "<Figure size 432x864 with 1 Axes>"
      ]
     },
     "metadata": {
      "needs_background": "light"
     },
     "output_type": "display_data"
    }
   ],
   "source": [
    "plot_init_state(arr, state)"
   ]
  },
  {
   "cell_type": "code",
   "execution_count": 915,
   "id": "ab774e13-66be-40aa-afac-f390c3aaec3e",
   "metadata": {},
   "outputs": [],
   "source": [
    "s = np.zeros(size(k,m))"
   ]
  },
  {
   "cell_type": "code",
   "execution_count": 916,
   "id": "c3717d64-5c24-4c19-a04c-60b0520ab89b",
   "metadata": {},
   "outputs": [],
   "source": [
    "s[init_state] = 1"
   ]
  },
  {
   "cell_type": "code",
   "execution_count": 917,
   "id": "f66b1137-0e4c-4fdf-8f91-e3dbbc7345cf",
   "metadata": {},
   "outputs": [],
   "source": [
    "t = np.empty(500)\n",
    "k0 = np.empty(500)\n",
    "k1 = np.empty(500)\n",
    "k2 = np.empty(500)\n",
    "k3 = np.empty(500)\n",
    "k4 = np.empty(500)\n",
    "k5 = np.empty(500)\n",
    "k6 = np.empty(500)\n",
    "k7 = np.empty(500)\n",
    "k8 = np.empty(500)\n",
    "k9 = np.empty(500)\n",
    "dt = time_step(init_state, sigma_w)"
   ]
  },
  {
   "cell_type": "code",
   "execution_count": 918,
   "id": "683a9807-b36e-4731-89a2-2574f5518288",
   "metadata": {},
   "outputs": [],
   "source": [
    "for i in range(500):\n",
    "    t[i] = dt*i\n",
    "    \n",
    "    if i==0:\n",
    "        k0[i] = occupation_number(s, 0)\n",
    "        k1[i] = occupation_number(s, 1)\n",
    "        k2[i] = occupation_number(s, 2)\n",
    "        k3[i] = occupation_number(s, 3)\n",
    "        k4[i] = occupation_number(s, 4)\n",
    "        k5[i] = occupation_number(s, 5)\n",
    "        k6[i] = occupation_number(s, 6)\n",
    "        k7[i] = occupation_number(s, 7)\n",
    "        k8[i] = occupation_number(s, 8)\n",
    "        k9[i] = occupation_number(s, 9)\n",
    "    else:\n",
    "        s = next_state(V_t(dt), s)\n",
    "        k0[i] = occupation_number(s, 0)\n",
    "        k1[i] = occupation_number(s, 1)\n",
    "        k2[i] = occupation_number(s, 2)\n",
    "        k3[i] = occupation_number(s, 3)\n",
    "        k4[i] = occupation_number(s, 4)\n",
    "        k5[i] = occupation_number(s, 5)\n",
    "        k6[i] = occupation_number(s, 6)\n",
    "        k7[i] = occupation_number(s, 7)\n",
    "        k8[i] = occupation_number(s, 8)\n",
    "        k9[i] = occupation_number(s, 9)"
   ]
  },
  {
   "cell_type": "code",
   "execution_count": 919,
   "id": "456b44da-87c7-4511-86d1-a3fdda4fdc0c",
   "metadata": {},
   "outputs": [
    {
     "data": {
      "text/plain": [
       "<matplotlib.legend.Legend at 0x135131f71c8>"
      ]
     },
     "execution_count": 919,
     "metadata": {},
     "output_type": "execute_result"
    },
    {
     "data": {
      "image/png": "[encoded data removed]",
      "text/plain": [
       "<Figure size 1152x432 with 1 Axes>"
      ]
     },
     "metadata": {
      "needs_background": "light"
     },
     "output_type": "display_data"
    }
   ],
   "source": [
    "fig, axes = plt.subplots(figsize=((16,6)))\n",
    "axes.plot(t,k0, label='k = 0')\n",
    "axes.plot(t,k1, label='k = 1')\n",
    "axes.plot(t,k2, label='k = 2')\n",
    "axes.plot(t,k3, label='k = 3')\n",
    "axes.plot(t,k4, label='k = 4')\n",
    "axes.plot(t,k5, label='k = 5')\n",
    "axes.plot(t,k6, label='k = 6')\n",
    "axes.plot(t,k7, label='k = 7')\n",
    "axes.plot(t,k8, label='k = 8')\n",
    "axes.plot(t,k9, label='k = 9')\n",
    "axes.set_xlabel(\"Time\")\n",
    "axes.set_ylabel(\"Occupation number per orbital k\")\n",
    "axes.set_title(f\"Evolution of state {init_state} with $\\sigma$ = {sigma_w}\")\n",
    "axes.legend()"
   ]
  },
  {
   "cell_type": "code",
   "execution_count": null,
   "id": "8d9cf4d0-434e-4963-bc03-0808bcccc25a",
   "metadata": {},
   "outputs": [],
   "source": []
  }
 ],
 "metadata": {
  "kernelspec": {
   "display_name": "Python 3 (ipykernel)",
   "language": "python",
   "name": "python3"
  },
  "language_info": {
   "codemirror_mode": {
    "name": "ipython",
    "version": 3
   },
   "file_extension": ".py",
   "mimetype": "text/x-python",
   "name": "python",
   "nbconvert_exporter": "python",
   "pygments_lexer": "ipython3",
   "version": "3.7.8"
  }
 },
 "nbformat": 4,
 "nbformat_minor": 5
}
