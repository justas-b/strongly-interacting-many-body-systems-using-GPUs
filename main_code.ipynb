{
 "cells": [
  {
   "cell_type": "code",
   "execution_count": 3252,
   "id": "a401e32f-d40e-4395-b15c-53fcd689874a",
   "metadata": {},
   "outputs": [],
   "source": [
    "import numpy as np\n",
    "from numpy.random import normal\n",
    "import matplotlib.pyplot as plt\n",
    "import math\n",
    "from math import pi\n",
    "import itertools\n",
    "import CUDAPython as CP\n",
    "%matplotlib inline"
   ]
  },
  {
   "cell_type": "code",
   "execution_count": 3253,
   "id": "9a0e81cf-f4dc-4f1d-b5f6-e13746665717",
   "metadata": {},
   "outputs": [],
   "source": [
    "#sets number of levels (k) and number of fermions (m)\n",
    "k = 10\n",
    "m = 5"
   ]
  },
  {
   "cell_type": "markdown",
   "id": "08d291f6-ae13-409e-a036-14a76ef19fb5",
   "metadata": {},
   "source": [
    "'''DEFINING FUNCTIONS BELOW'''"
   ]
  },
  {
   "cell_type": "code",
   "execution_count": 3254,
   "id": "e07d0fac-5ad2-41d8-99ee-ab5cf5056950",
   "metadata": {},
   "outputs": [],
   "source": [
    "def generate_energies(k):\n",
    "    '''generates ordered array of k distinct energy levels'''\n",
    "    energies = np.empty(k)\n",
    "    count=0\n",
    "    while(count!=k):\n",
    "        energies[count]=normal(0,1) #samples a normal distribution k times\n",
    "        count+=1\n",
    "    return np.sort(energies) #output is a scaled, sorted array of size k\n",
    "\n",
    "def size(k, m):\n",
    "    '''determines the number of combination of m fermions on k energy levels'''\n",
    "    return int(math.factorial(k)/((math.factorial(k-m))*(math.factorial(m))))\n",
    "\n",
    "def ground_state(k, m):\n",
    "    '''initialises a ground state based on number of fermions (m) and number of energy levels (k)\n",
    "    \n",
    "    e.g. for k=10, m=5:\n",
    "    ground state is [1,1,1,1,1,0,0,0,0,0]'''\n",
    "    state = np.zeros(k, dtype=int)\n",
    "    for i in range(m):\n",
    "        state[i] = 1\n",
    "    return state\n",
    "\n",
    "def permutations(state):\n",
    "    '''returns a list of possible permutations of a given binary state'''\n",
    "    return list(set(itertools.permutations(state)))   \n",
    "\n",
    "def time_step(init_state, sigma_w):\n",
    "    '''Determines the time step to compute the time evolution using the Fermi Golden Rule'''\n",
    "    dt = 0\n",
    "    if init_state==0:\n",
    "        dE = D[init_state+1][init_state+1] - D[init_state][init_state]\n",
    "    else:\n",
    "        dE = D[init_state][init_state] - D[init_state-1][init_state-1]\n",
    "    \n",
    "    f = 2*pi*sigma_w**2*(1/dE) #fermi golden rule (approximation)\n",
    "    \n",
    "    return 1/(f*10)\n",
    "\n",
    "#need time evolution of the D matrix\n",
    "def D_evo(dt):\n",
    "    '''Function that produces the D matrix for a given time t (time evolution of D matrix)'''\n",
    "    D_ev = np.zeros((size(k,m), size(k,m)), dtype=complex)\n",
    "    \n",
    "    for x in range(size(k,m)):\n",
    "        D_ev[x][x] = np.exp(-1j*D[x][x]*dt) #calculates time evolution of the diagonal elements, removed factor of 1/hbar\n",
    "    return D_ev\n",
    "\n",
    "def V_t(dt):\n",
    "    '''Evolution operator at time interval dt'''\n",
    "    D_exp = D_evo(dt) #evolution matrix for a time t\n",
    "    left_mat = np.matmul(P, D_exp) #multiplying P*e^D\n",
    "    return np.matmul(left_mat, P_T) #multiplying above by P_T"
   ]
  },
  {
   "cell_type": "code",
   "execution_count": 3255,
   "id": "50906355-4065-4248-b7cf-37a1e0577a4b",
   "metadata": {},
   "outputs": [],
   "source": [
    "def next_state(V_t, state):\n",
    "    return np.matmul(V_t, state)"
   ]
  },
  {
   "cell_type": "code",
   "execution_count": 3256,
   "id": "85d06b0d-73b7-4cca-9a6b-5de8c1d9aeae",
   "metadata": {},
   "outputs": [],
   "source": [
    "def coefs(state):\n",
    "    state_conj = np.conj(state)\n",
    "    coefficients = np.empty(size(k,m))\n",
    "    \n",
    "    for i in range(size(k,m)):\n",
    "        coefficients[i] = (np.dot(state[i], state_conj[i])).real\n",
    "    return coefficients"
   ]
  },
  {
   "cell_type": "code",
   "execution_count": 3257,
   "id": "72b8e934-d74f-43c5-8db1-cc7b595de5d5",
   "metadata": {},
   "outputs": [],
   "source": [
    "def occupation_number(state, lev):\n",
    "    _sum=0\n",
    "    coef = coefs(state)\n",
    "    \n",
    "    for i in range(size(k,m)):\n",
    "        _sum += coef[i]*i_state_map[i][lev]\n",
    "    return _sum"
   ]
  },
  {
   "cell_type": "code",
   "execution_count": 3258,
   "id": "70f74be5-0861-4ee0-8714-eec3c6680e6f",
   "metadata": {},
   "outputs": [],
   "source": [
    "def plot_init_state(energies, state):\n",
    "    '''Function that displays a plot of a given state'''\n",
    "    fig, axes = plt.subplots(figsize=((5,12)))\n",
    "    \n",
    "    axes.hlines(energies,0,1,'r', zorder=1, label='Energy level')\n",
    "    axes.scatter(np.full(int(len(energies)/2), 0.5), [energies[i] for i in range(len(energies)) if state[i]==1], color='b', zorder=2, label='Occupied state')\n",
    "    axes.scatter(np.full(int(len(energies)/2), 0.5), [energies[i] for i in range(len(energies)) if state[i]==0], color='b', facecolor='none',  zorder=2, label='Empty state')\n",
    "  \n",
    "    axes.spines['bottom'].set_color('none')\n",
    "    axes.spines['top'].set_color('none')\n",
    "    axes.spines['right'].set_color('none')\n",
    "    axes.set_xticks([])\n",
    "    axes.set_yticks(energies)\n",
    "    axes.set_ylabel('Energy eigenvalue')\n",
    "    axes.legend()\n",
    "    fig.savefig(\"state\")\n",
    "    return"
   ]
  },
  {
   "cell_type": "code",
   "execution_count": 8,
   "id": "a2d686de-8982-4a9d-9a90-73992cde28a1",
   "metadata": {},
   "outputs": [],
   "source": [
    "arr = generate_energies(k)"
   ]
  },
  {
   "cell_type": "code",
   "execution_count": 1143,
   "id": "152b4e27-6875-4df7-97eb-5ef457d5f898",
   "metadata": {},
   "outputs": [],
   "source": [
    "random_energies = np.copy(arr)"
   ]
  },
  {
   "cell_type": "code",
   "execution_count": 1189,
   "id": "07e1b162-c23c-4b04-a8b4-be54f1845e3f",
   "metadata": {},
   "outputs": [
    {
     "data": {
      "text/plain": [
       "array([-1.65617583, -1.39206275, -1.13888411, -0.98595993,  0.49601268,\n",
       "        0.5507186 ,  0.85770398,  1.01867683,  1.60358233,  1.67992548])"
      ]
     },
     "execution_count": 1189,
     "metadata": {},
     "output_type": "execute_result"
    }
   ],
   "source": [
    "random_energies"
   ]
  },
  {
   "cell_type": "code",
   "execution_count": 2646,
   "id": "89abb052-ac60-498a-a4ca-265176203961",
   "metadata": {},
   "outputs": [],
   "source": [
    "test2 = np.array([-0.5-0.01972       , -0.4-0.01261, -0.3+0.01459, -0.2-0.01245, -0.1-0.01237,\n",
    "        0-0.01427,  0.1+0.01916,  0.2-0.0151,  0.3+0.01111,  0.4-0.013722      ]) #equally spaced energy levels with offsets to avoid identical energy eigenvalues"
   ]
  },
  {
   "cell_type": "code",
   "execution_count": 2647,
   "id": "a03c0185-bad9-4ea9-b5c5-494aafeef58d",
   "metadata": {},
   "outputs": [
    {
     "data": {
      "text/plain": [
       "array([-0.51972 , -0.41261 , -0.28541 , -0.21245 , -0.11237 , -0.01427 ,\n",
       "        0.11916 ,  0.1849  ,  0.31111 ,  0.386278])"
      ]
     },
     "execution_count": 2647,
     "metadata": {},
     "output_type": "execute_result"
    }
   ],
   "source": [
    "test2"
   ]
  },
  {
   "cell_type": "code",
   "execution_count": 2791,
   "id": "7c34d41e-6f6b-42db-9863-e1e019cc9f2b",
   "metadata": {},
   "outputs": [],
   "source": [
    "random_energies_2 = generate_energies(k)"
   ]
  },
  {
   "cell_type": "code",
   "execution_count": 2898,
   "id": "97d8e4f6-7444-49de-a1e5-cb6dd9ce35f4",
   "metadata": {},
   "outputs": [
    {
     "data": {
      "text/plain": [
       "array([-1.83080747, -1.58099544, -1.18727703, -0.73047668, -0.25736133,\n",
       "        0.16200711,  0.48985721,  0.90790562,  1.04933832,  1.44916182])"
      ]
     },
     "execution_count": 2898,
     "metadata": {},
     "output_type": "execute_result"
    }
   ],
   "source": [
    "random_energies_2"
   ]
  },
  {
   "cell_type": "markdown",
   "id": "fc83092b-6011-4dc7-999c-d3423276f071",
   "metadata": {},
   "source": [
    "Considering m fermions on k single fermion energy levels:"
   ]
  },
  {
   "cell_type": "code",
   "execution_count": 3259,
   "id": "44e2ffd6-4899-4031-b20c-71ebd80281de",
   "metadata": {},
   "outputs": [],
   "source": [
    "state = ground_state(k, m) #initialises ground state"
   ]
  },
  {
   "cell_type": "code",
   "execution_count": 3260,
   "id": "3a40909e-6e7d-4554-874a-4428d7442d7b",
   "metadata": {},
   "outputs": [
    {
     "data": {
      "text/plain": [
       "array([1, 1, 1, 1, 1, 0, 0, 0, 0, 0])"
      ]
     },
     "execution_count": 3260,
     "metadata": {},
     "output_type": "execute_result"
    }
   ],
   "source": [
    "state"
   ]
  },
  {
   "cell_type": "code",
   "execution_count": 3261,
   "id": "b966e48a-ba28-47e5-8f9c-2146153851ef",
   "metadata": {
    "tags": []
   },
   "outputs": [],
   "source": [
    "states = permutations(state) #list of possible permutations of the ground state"
   ]
  },
  {
   "cell_type": "code",
   "execution_count": 3262,
   "id": "5e472908-2e93-47a9-8d42-5a28cb0f85d0",
   "metadata": {
    "tags": []
   },
   "outputs": [],
   "source": [
    "energy_state = {} #empty dict for mapping energies to their corresponding state {energy: state}\n",
    "energies = np.empty(size(k,m))"
   ]
  },
  {
   "cell_type": "code",
   "execution_count": 3263,
   "id": "468e0506-875d-4832-bcf6-f2c4e852eca2",
   "metadata": {
    "tags": []
   },
   "outputs": [],
   "source": [
    "for state in range(len(states)): #looping through all possible states\n",
    "    energy = np.dot(states[state],random_energies_2) #computes energy of a given state via a dot product; energy and state arrays can be thought of as vectors -> dot product\n",
    "    energies[state] = energy\n",
    "    energy_state[energy] = states[state] #mapping the energy to its given state"
   ]
  },
  {
   "cell_type": "code",
   "execution_count": 3264,
   "id": "509efb8d-ad4a-4288-9f6d-4a7f88ee68f8",
   "metadata": {
    "tags": []
   },
   "outputs": [],
   "source": [
    "sorted_energies = np.sort(energies) #sorting the energies in ascending order\n",
    "\n",
    "sorted_dict = {} #empty dict to be used in mapping SORTED energies to their states (useful later)"
   ]
  },
  {
   "cell_type": "code",
   "execution_count": 3265,
   "id": "c1c34ce8-2a34-4e01-b425-084098dea6cf",
   "metadata": {
    "tags": []
   },
   "outputs": [],
   "source": [
    "for energy in sorted_energies:\n",
    "    sorted_dict[energy] = energy_state[energy] #mapping sorted energies to their corresponding states"
   ]
  },
  {
   "cell_type": "code",
   "execution_count": 3266,
   "id": "118e5303-c43e-4f9c-8c64-92651de00af1",
   "metadata": {
    "tags": []
   },
   "outputs": [],
   "source": [
    "#need to map i to its corresponding state\n",
    "i_state_map = {}\n",
    "sorted_states = list(sorted_dict.values())"
   ]
  },
  {
   "cell_type": "code",
   "execution_count": 3267,
   "id": "46b4d1cd-b7bc-4668-ae75-206bb2660148",
   "metadata": {
    "tags": []
   },
   "outputs": [],
   "source": [
    "for i in range(size(k,m)):\n",
    "    i_state_map[i] = sorted_states[i] #looping through all states and adding them to a dictionary i: state_i"
   ]
  },
  {
   "cell_type": "code",
   "execution_count": 3268,
   "id": "7a7fd10f-2910-4a70-81c5-7b3a9f9fdbdd",
   "metadata": {},
   "outputs": [
    {
     "data": {
      "image/png": "[encoded data removed]",
      "text/plain": [
       "<Figure size 432x288 with 1 Axes>"
      ]
     },
     "metadata": {
      "needs_background": "light"
     },
     "output_type": "display_data"
    }
   ],
   "source": [
    "fig, axes = plt.subplots()\n",
    "axes.plot(np.linspace(1,size(k,m),size(k,m)),sorted_energies, 'red')\n",
    "axes.spines['top'].set_color('none')\n",
    "axes.spines['right'].set_color('none')\n",
    "axes.set_xlabel('State')\n",
    "axes.set_ylabel('Energy')\n",
    "axes.set_xlim((0,252))\n",
    "fig.savefig(\"h_0\")"
   ]
  },
  {
   "cell_type": "code",
   "execution_count": 3590,
   "id": "0d2b1064-d932-442c-ad88-642079a3c4a4",
   "metadata": {},
   "outputs": [],
   "source": [
    "sigma_w = 0.001\n",
    "init_state = int(size(k,m)/2)"
   ]
  },
  {
   "cell_type": "code",
   "execution_count": 3591,
   "id": "4c603396-2054-48d9-bb77-d45a7a528e6f",
   "metadata": {},
   "outputs": [],
   "source": [
    "H_0 = np.zeros((size(k,m),size(k,m))) #generating a zero matrix which has dimensions of the number of permutations of the initial state\n",
    "\n",
    "for i in range(size(k,m)):\n",
    "    H_0[i][i] = sorted_energies[i] #filling the diagonals with the energy eigenvalues\n",
    "\n",
    "w = np.empty((size(k,m),size(k,m))) #generating an empty matrix with the same dimensions as H_0\n",
    "\n",
    "for i in range(size(k,m)):\n",
    "    for j in range(size(k,m)):\n",
    "        w[i][j] = normal(0,sigma_w) #loops through all possible elements of w and samples a normal distribution, can change variance sigma_w to change strength of interactions\n",
    "\n",
    "w_T = np.transpose(w) #determines the transpose of the matrix w\n",
    "\n",
    "W = (w+w_T)/2 #ensuring that the random matrix W is real and symmetric\n",
    "\n",
    "H = H_0 + W #H is the hamiltonian with interactions due to the random matrix (non-diagonal)\n",
    "\n",
    "#Diagonalisation of H:\n",
    "\n",
    "hCUDA = CP.CUDAContext() #obtain CUDA context (only 1 needed)\n",
    "\n",
    "hCUBLAS = CP.CUBLASContext() \n",
    "hCUBLAS.Create() #create CUBLAS context (for basic linear algebra ops)\n",
    "\n",
    "hCUSolverDense = CP.CUSolverDenseContext()\n",
    "hCUSolverDense.Create() #create CUSolver Context (for dense matrix ops)\n",
    "\n",
    "#allocating memory on the CPU to fit a matrix of size size X size\n",
    "hHostMatrix = CP.CUDAHostMemory()\n",
    "hHostMatrix.Allocate2D(CP.CUDANumericSizeRD, size(k,m), size(k,m), CP.CUDAHostMemoryAllocFlags.PINNED)\n",
    "\n",
    "hHostVector = CP.CUDAHostMemory()\n",
    "hHostVector.Allocate1D(CP.CUDANumericSizeRD, size(k,m), CP.CUDAHostMemoryAllocFlags.PINNED)\n",
    "\n",
    "for i in range(size(k,m)):\n",
    "    for j in range(size(k,m)):\n",
    "        hHostMatrix.WriteRD(CP.CUDAMemoryPosition(i,j,0), H[i][j]) #initialising values\n",
    "\n",
    "#allocating memory on the GPU to fit a matrix of size size X size\n",
    "hDeviceMatrixA = CP.CUDADeviceMemory()\n",
    "hDeviceMatrixA.Allocate2D(CP.CUDANumericSizeRD, size(k,m), size(k,m))\n",
    "\n",
    "hDeviceVectorX = CP.CUDADeviceMemory()\n",
    "hDeviceVectorX.Allocate1D(CP.CUDANumericSizeRD, size(k,m))\n",
    "\n",
    "hCUBLAS.SetMatrix(hDeviceMatrixA, CP.CUDAMemoryPosition(), hHostMatrix, CP.CUDAMemoryPosition(), CP.CUDAMemoryRegion(size(k,m),size(k,m),1)) #copy memory from CPU to GPU\n",
    "hCUDA.WaitForCurrentDevice() #sync\n",
    "\n",
    "#build and setup of solver\n",
    "hEigenSolver = CP.CUSolverDenseEigenValue(hCUSolverDense)\n",
    "hEigenSolver.SetMatrixA(hDeviceMatrixA)\n",
    "hEigenSolver.SetMatrixFillModeA(CP.CUBLASContextFillMode.UPPER)\n",
    "hEigenSolver.SetVectorX(hDeviceVectorX)\n",
    "hEigenSolver.SetAlgorithm(CP.CUSolverDenseEigenValueAlgorithm.QR) #householder reduction method???\n",
    "hEigenSolver.ComputeEigenVectors(True)\n",
    "\n",
    "hEigenSolver.PrepareRD() #allocates workspace memory\n",
    "\n",
    "#solve and sync\n",
    "hEigenSolver.SolveRD()\n",
    "hCUDA.WaitForCurrentDevice()\n",
    "hEigenSolver.UpdateStateAfterSync()\n",
    "\n",
    "#copy memory from GPU to CPU\n",
    "hCUBLAS.GetMatrix(hHostMatrix, CP.CUDAMemoryPosition(), hDeviceMatrixA, CP.CUDAMemoryPosition(), CP.CUDAMemoryRegion(size(k,m), size(k,m), 1))\n",
    "hCUDA.WaitForCurrentDevice()\n",
    "\n",
    "hCUBLAS.GetVector(hHostVector, CP.CUDAMemoryPosition(), hDeviceVectorX, CP.CUDAMemoryPosition(), CP.CUDAMemoryRegion(size(k,m), 1, 1))\n",
    "hCUDA.WaitForCurrentDevice()\n",
    "\n",
    "hPos = CP.CUDAMemoryPosition()\n",
    "\n",
    "D = np.zeros((size(k,m), size(k,m))) #initialising matrix to be used to store the eigenvalues as diagonal elements\n",
    "P = np.zeros((size(k,m), size(k,m))) #initialising basis change matrix (H=PDP^-1)\n",
    "\n",
    "for hPos.iX in range(size(k,m)):\n",
    "    D[hPos.iX][hPos.iX] = hHostVector.ReadRD(hPos) #sets the diagonal elements of the matrix to the eigenvalues computed using the above algorithm\n",
    "\n",
    "#need to prepare P matrix using the eigenvectors given by the above algorithm\n",
    "for hPos.iY in range(size(k,m)):\n",
    "    for hPos.iX in range(size(k,m)):\n",
    "        P[hPos.iY][hPos.iX] = hHostMatrix.ReadRD(hPos)\n",
    "\n",
    "P_T = np.transpose(P)\n",
    "\n",
    "#free memory and destroy contexts\n",
    "hDeviceVectorX.Free()\n",
    "hDeviceMatrixA.Free()\n",
    "hHostVector.Free()\n",
    "hHostMatrix.Free()\n",
    "\n",
    "hCUSolverDense.Destroy()\n",
    "hCUBLAS.Destroy()"
   ]
  },
  {
   "cell_type": "code",
   "execution_count": 3490,
   "id": "2d8b06b3-829f-4340-8100-46670c468e98",
   "metadata": {},
   "outputs": [],
   "source": [
    "state = sorted_states[init_state]"
   ]
  },
  {
   "cell_type": "code",
   "execution_count": 3491,
   "id": "87854ac8-bb57-41d1-9088-66e40904ca4e",
   "metadata": {},
   "outputs": [
    {
     "data": {
      "text/plain": [
       "(0, 1, 0, 1, 0, 1, 1, 1, 0, 0)"
      ]
     },
     "execution_count": 3491,
     "metadata": {},
     "output_type": "execute_result"
    }
   ],
   "source": [
    "state"
   ]
  },
  {
   "cell_type": "code",
   "execution_count": 3492,
   "id": "7110eef8-5143-4893-9811-eb61e2ba4611",
   "metadata": {},
   "outputs": [
    {
     "data": {
      "image/png": "[encoded data removed]",
      "text/plain": [
       "<Figure size 360x864 with 1 Axes>"
      ]
     },
     "metadata": {
      "needs_background": "light"
     },
     "output_type": "display_data"
    }
   ],
   "source": [
    "plot_init_state(random_energies_2, state)"
   ]
  },
  {
   "cell_type": "code",
   "execution_count": 3486,
   "id": "2e43e8fc-eab3-4be8-a9c3-dfbce0945da4",
   "metadata": {},
   "outputs": [],
   "source": [
    "runs = 1000"
   ]
  },
  {
   "cell_type": "code",
   "execution_count": 3543,
   "id": "9a5bddf9-68eb-44dd-89bc-8160bdcfb325",
   "metadata": {},
   "outputs": [],
   "source": [
    "sigma = [1]"
   ]
  },
  {
   "cell_type": "code",
   "execution_count": 3544,
   "id": "3fd56776-7d94-420b-a662-098e0dcc50cc",
   "metadata": {},
   "outputs": [],
   "source": [
    "mean_1 = []\n",
    "mean_2 = []\n",
    "mean_3 = []\n",
    "mean_4 = []\n",
    "mean_5 = []\n",
    "mean_6 = []"
   ]
  },
  {
   "cell_type": "code",
   "execution_count": 3592,
   "id": "f8360fa2-69f4-46aa-a798-0415b7555b3b",
   "metadata": {},
   "outputs": [
    {
     "data": {
      "image/png": "[encoded data removed]",
      "text/plain": [
       "<Figure size 1152x576 with 1 Axes>"
      ]
     },
     "metadata": {
      "needs_background": "light"
     },
     "output_type": "display_data"
    }
   ],
   "source": [
    "s = np.zeros(size(k,m))\n",
    "\n",
    "s[init_state] = 1\n",
    "\n",
    "t = np.empty(runs)\n",
    "k0 = np.empty(runs)\n",
    "k1 = np.empty(runs)\n",
    "k2 = np.empty(runs)\n",
    "k3 = np.empty(runs)\n",
    "k4 = np.empty(runs)\n",
    "k5 = np.empty(runs)\n",
    "k6 = np.empty(runs)\n",
    "k7 = np.empty(runs)\n",
    "k8 = np.empty(runs)\n",
    "k9 = np.empty(runs)\n",
    "dt = time_step(init_state, sigma_w)\n",
    "\n",
    "for i in range(runs):\n",
    "    t[i] = dt*i\n",
    "    \n",
    "    if i==0:\n",
    "        k0[i] = occupation_number(s, 0)\n",
    "        k1[i] = occupation_number(s, 1)\n",
    "        k2[i] = occupation_number(s, 2)\n",
    "        k3[i] = occupation_number(s, 3)\n",
    "        k4[i] = occupation_number(s, 4)\n",
    "        k5[i] = occupation_number(s, 5)\n",
    "        k6[i] = occupation_number(s, 6)\n",
    "        k7[i] = occupation_number(s, 7)\n",
    "        k8[i] = occupation_number(s, 8)\n",
    "        k9[i] = occupation_number(s, 9)\n",
    "    else:\n",
    "        s = next_state(V_t(dt), s)\n",
    "        k0[i] = occupation_number(s, 0)\n",
    "        k1[i] = occupation_number(s, 1)\n",
    "        k2[i] = occupation_number(s, 2)\n",
    "        k3[i] = occupation_number(s, 3)\n",
    "        k4[i] = occupation_number(s, 4)\n",
    "        k5[i] = occupation_number(s, 5)\n",
    "        k6[i] = occupation_number(s, 6)\n",
    "        k7[i] = occupation_number(s, 7)\n",
    "        k8[i] = occupation_number(s, 8)\n",
    "        k9[i] = occupation_number(s, 9)\n",
    "\n",
    "fig, axes = plt.subplots(figsize=((16,8)))\n",
    "axes.plot(t,k0, label='k = 0')\n",
    "axes.plot(t,k1, label='k = 1')\n",
    "axes.plot(t,k2, label='k = 2')\n",
    "axes.plot(t,k3, label='k = 3')\n",
    "axes.plot(t,k4, label='k = 4')\n",
    "axes.plot(t,k5, label='k = 5')\n",
    "axes.plot(t,k6, label='k = 6')\n",
    "axes.plot(t,k7, label='k = 7')\n",
    "axes.plot(t,k8, label='k = 8')\n",
    "axes.plot(t,k9, label='k = 9')\n",
    "axes.set_ylim((-0.01,1.01))\n",
    "axes.set_xlim((0,t[-1]))\n",
    "axes.set_xlabel(\"Time, t\")\n",
    "axes.set_ylabel(r\"Average occupation number per orbital k, $<n_{k}>$\")\n",
    "#axes.set_title(f\"Evolution of state {init_state} with $\\sigma$ = {sigma_w}\")\n",
    "axes.legend()\n",
    "fig.savefig(\"sigma_0_001\")"
   ]
  },
  {
   "cell_type": "code",
   "execution_count": 3554,
   "id": "c65ead70-e9c5-440e-a93a-702bf00230ce",
   "metadata": {},
   "outputs": [],
   "source": [
    "mean_1.append(np.mean(k0))\n",
    "mean_1.append(np.mean(k1))\n",
    "mean_1.append(np.mean(k2))\n",
    "mean_1.append(np.mean(k3))\n",
    "mean_1.append(np.mean(k4))\n",
    "mean_1.append(np.mean(k5))\n",
    "mean_1.append(np.mean(k6))\n",
    "mean_1.append(np.mean(k7))\n",
    "mean_1.append(np.mean(k8))\n",
    "mean_1.append(np.mean(k9))"
   ]
  },
  {
   "cell_type": "code",
   "execution_count": 3559,
   "id": "71787d28-a7c5-41eb-a076-d51f419326d9",
   "metadata": {},
   "outputs": [],
   "source": [
    "mean_2.append(np.mean(k0))\n",
    "mean_2.append(np.mean(k1))\n",
    "mean_2.append(np.mean(k2))\n",
    "mean_2.append(np.mean(k3))\n",
    "mean_2.append(np.mean(k4))\n",
    "mean_2.append(np.mean(k5))\n",
    "mean_2.append(np.mean(k6))\n",
    "mean_2.append(np.mean(k7))\n",
    "mean_2.append(np.mean(k8))\n",
    "mean_2.append(np.mean(k9))"
   ]
  },
  {
   "cell_type": "code",
   "execution_count": 3576,
   "id": "1e04e784-8f9e-4ad0-8aa7-3e6e2d0342ca",
   "metadata": {},
   "outputs": [],
   "source": [
    "mean_3.append(np.mean(k0))\n",
    "mean_3.append(np.mean(k1))\n",
    "mean_3.append(np.mean(k2))\n",
    "mean_3.append(np.mean(k3))\n",
    "mean_3.append(np.mean(k4))\n",
    "mean_3.append(np.mean(k5))\n",
    "mean_3.append(np.mean(k6))\n",
    "mean_3.append(np.mean(k7))\n",
    "mean_3.append(np.mean(k8))\n",
    "mean_3.append(np.mean(k9))"
   ]
  },
  {
   "cell_type": "code",
   "execution_count": 3583,
   "id": "de01d8a4-6939-41d3-b4bb-71e5739f5909",
   "metadata": {},
   "outputs": [],
   "source": [
    "mean_4.append(np.mean(k0))\n",
    "mean_4.append(np.mean(k1))\n",
    "mean_4.append(np.mean(k2))\n",
    "mean_4.append(np.mean(k3))\n",
    "mean_4.append(np.mean(k4))\n",
    "mean_4.append(np.mean(k5))\n",
    "mean_4.append(np.mean(k6))\n",
    "mean_4.append(np.mean(k7))\n",
    "mean_4.append(np.mean(k8))\n",
    "mean_4.append(np.mean(k9))"
   ]
  },
  {
   "cell_type": "code",
   "execution_count": 3588,
   "id": "2b8b608c-52e4-4d09-8036-49a8c83d87f2",
   "metadata": {},
   "outputs": [],
   "source": [
    "mean_5.append(np.mean(k0))\n",
    "mean_5.append(np.mean(k1))\n",
    "mean_5.append(np.mean(k2))\n",
    "mean_5.append(np.mean(k3))\n",
    "mean_5.append(np.mean(k4))\n",
    "mean_5.append(np.mean(k5))\n",
    "mean_5.append(np.mean(k6))\n",
    "mean_5.append(np.mean(k7))\n",
    "mean_5.append(np.mean(k8))\n",
    "mean_5.append(np.mean(k9))"
   ]
  },
  {
   "cell_type": "code",
   "execution_count": 3593,
   "id": "4ec7c77c-54b6-4b05-9446-a572cdd94fb6",
   "metadata": {},
   "outputs": [],
   "source": [
    "mean_6.append(np.mean(k0))\n",
    "mean_6.append(np.mean(k1))\n",
    "mean_6.append(np.mean(k2))\n",
    "mean_6.append(np.mean(k3))\n",
    "mean_6.append(np.mean(k4))\n",
    "mean_6.append(np.mean(k5))\n",
    "mean_6.append(np.mean(k6))\n",
    "mean_6.append(np.mean(k7))\n",
    "mean_6.append(np.mean(k8))\n",
    "mean_6.append(np.mean(k9))"
   ]
  },
  {
   "cell_type": "code",
   "execution_count": 3604,
   "id": "0018c33f-f77c-45e3-b8ec-d4c3af79d402",
   "metadata": {},
   "outputs": [
    {
     "data": {
      "image/png": "[encoded data removed]",
      "text/plain": [
       "<Figure size 1152x576 with 1 Axes>"
      ]
     },
     "metadata": {
      "needs_background": "light"
     },
     "output_type": "display_data"
    }
   ],
   "source": [
    "fig, axes = plt.subplots(figsize=((16,8)))\n",
    "axes.scatter(random_energies_2,mean_1, label=r'$\\sigma$ = 1', marker='o')\n",
    "axes.scatter(random_energies_2,mean_2, label=r'$\\sigma$ = 0.1', marker='v')\n",
    "axes.scatter(random_energies_2,mean_3, label=r'$\\sigma$ = 0.025', marker='^')\n",
    "axes.scatter(random_energies_2,mean_4, label=r'$\\sigma$ = 0.01', marker='<')\n",
    "axes.scatter(random_energies_2,mean_5, label=r'$\\sigma$ = 0.005', marker='>')\n",
    "axes.scatter(random_energies_2,mean_6, label=r'$\\sigma$ = 0.001', marker='s')\n",
    "axes.set_ylim((-0.01,1.01))\n",
    "axes.set_xlabel(r\"Energy eigenvalue, $\\epsilon_{k}$\")\n",
    "axes.set_ylabel(r\"Average occupation number per orbital k, $<n_{k}>$\")\n",
    "axes.set_xticks(random_energies_2)\n",
    "axes.legend()\n",
    "fig.savefig(\"occupation_vs_energy\") "
   ]
  },
  {
   "cell_type": "code",
   "execution_count": null,
   "id": "616ea692-1fd4-4b1f-99fc-7c1e2c24d6ec",
   "metadata": {},
   "outputs": [],
   "source": []
  }
 ],
 "metadata": {
  "kernelspec": {
   "display_name": "Python 3 (ipykernel)",
   "language": "python",
   "name": "python3"
  },
  "language_info": {
   "codemirror_mode": {
    "name": "ipython",
    "version": 3
   },
   "file_extension": ".py",
   "mimetype": "text/x-python",
   "name": "python",
   "nbconvert_exporter": "python",
   "pygments_lexer": "ipython3",
   "version": "3.7.8"
  }
 },
 "nbformat": 4,
 "nbformat_minor": 5
}
