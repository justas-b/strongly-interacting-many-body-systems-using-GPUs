{
 "cells": [
  {
   "cell_type": "code",
   "execution_count": 1,
   "id": "a401e32f-d40e-4395-b15c-53fcd689874a",
   "metadata": {},
   "outputs": [],
   "source": [
    "import numpy as np\n",
    "from numpy.random import normal\n",
    "import matplotlib.pyplot as plt\n",
    "import math\n",
    "import itertools\n",
    "import CUDAPython as CP\n",
    "%matplotlib inline"
   ]
  },
  {
   "cell_type": "code",
   "execution_count": 2,
   "id": "9a0e81cf-f4dc-4f1d-b5f6-e13746665717",
   "metadata": {},
   "outputs": [],
   "source": [
    "k = 10\n",
    "m = 5"
   ]
  },
  {
   "cell_type": "markdown",
   "id": "4f117f84-2a91-4bad-8ce0-931fe2434d8f",
   "metadata": {},
   "source": [
    "Generating single fermion energy levels:"
   ]
  },
  {
   "cell_type": "code",
   "execution_count": 3,
   "id": "5438af43-a94f-40b9-8a9a-b019b4df1838",
   "metadata": {},
   "outputs": [],
   "source": [
    "def generate_energies(levels):\n",
    "    '''generates array of k distinct energy levels'''\n",
    "    energies = np.empty(levels)\n",
    "    count=0\n",
    "    while(count!=levels):\n",
    "        energies[count]=normal(0,1)\n",
    "        count+=1\n",
    "    return energies"
   ]
  },
  {
   "cell_type": "code",
   "execution_count": 4,
   "id": "a98acc37-b605-46b5-ba6a-a1c1185a0ff9",
   "metadata": {},
   "outputs": [],
   "source": [
    "def sort_scale(array):\n",
    "    '''scaling array to positive values and sorting it in ascending order'''\n",
    "    min_ar = np.min(array)\n",
    "    scaled_ar = array + abs(min_ar)\n",
    "    return np.sort(scaled_ar)"
   ]
  },
  {
   "cell_type": "code",
   "execution_count": 5,
   "id": "a2d686de-8982-4a9d-9a90-73992cde28a1",
   "metadata": {},
   "outputs": [],
   "source": [
    "arr = generate_energies(k)"
   ]
  },
  {
   "cell_type": "code",
   "execution_count": 6,
   "id": "fad31f5c-a965-4c0b-9550-02067a472700",
   "metadata": {},
   "outputs": [
    {
     "name": "stdout",
     "output_type": "stream",
     "text": [
      "[0.         0.40802298 0.43229858 0.49207423 0.87267884 1.37526067\n",
      " 1.37845372 1.50159921 1.74567469 2.22925011]\n"
     ]
    }
   ],
   "source": [
    "arr_sorted = sort_scale(arr)\n",
    "print(arr_sorted)"
   ]
  },
  {
   "cell_type": "code",
   "execution_count": 7,
   "id": "468c7ea9-452f-42c5-bea2-3dbfe27ffbf5",
   "metadata": {},
   "outputs": [
    {
     "data": {
      "text/plain": [
       "Text(0, 0.5, 'Energy level')"
      ]
     },
     "execution_count": 7,
     "metadata": {},
     "output_type": "execute_result"
    },
    {
     "data": {
      "image/png": "[encoded data removed]",
      "text/plain": [
       "<Figure size 432x288 with 1 Axes>"
      ]
     },
     "metadata": {
      "needs_background": "light"
     },
     "output_type": "display_data"
    }
   ],
   "source": [
    "fig, axes = plt.subplots()\n",
    "axes.plot(arr_sorted,np.linspace(1,k,k))\n",
    "axes.spines['top'].set_color('none')\n",
    "axes.spines['right'].set_color('none')\n",
    "axes.set_xlabel('Energy')\n",
    "axes.set_ylabel('Energy level')"
   ]
  },
  {
   "cell_type": "markdown",
   "id": "fc83092b-6011-4dc7-999c-d3423276f071",
   "metadata": {},
   "source": [
    "Considering m fermions on k single fermion energy levels:"
   ]
  },
  {
   "cell_type": "code",
   "execution_count": 8,
   "id": "6ce0c397-2146-4e99-a4c9-7de9cd7e7713",
   "metadata": {},
   "outputs": [],
   "source": [
    "size = int(math.factorial(k)/((math.factorial(k-m))*(math.factorial(m))))"
   ]
  },
  {
   "cell_type": "code",
   "execution_count": 9,
   "id": "7e5510e4-52d7-4d2b-9fb0-9f9289d29b6a",
   "metadata": {},
   "outputs": [],
   "source": [
    "def permutations(state):\n",
    "    '''returns possible permutations of a given binary state'''\n",
    "    return list(set(itertools.permutations(state)))    "
   ]
  },
  {
   "cell_type": "code",
   "execution_count": 10,
   "id": "86f0c0de-7a29-4264-9e17-f38928f4bbf7",
   "metadata": {},
   "outputs": [],
   "source": [
    "def ground_state(k, m):\n",
    "    state = np.zeros(k, dtype=int)\n",
    "    \n",
    "    for i in range(m):\n",
    "        state[i] = 1\n",
    "    return state"
   ]
  },
  {
   "cell_type": "code",
   "execution_count": 11,
   "id": "44e2ffd6-4899-4031-b20c-71ebd80281de",
   "metadata": {},
   "outputs": [],
   "source": [
    "state = ground_state(k, m)"
   ]
  },
  {
   "cell_type": "code",
   "execution_count": 12,
   "id": "3a40909e-6e7d-4554-874a-4428d7442d7b",
   "metadata": {},
   "outputs": [
    {
     "data": {
      "text/plain": [
       "array([1, 1, 1, 1, 1, 0, 0, 0, 0, 0])"
      ]
     },
     "execution_count": 12,
     "metadata": {},
     "output_type": "execute_result"
    }
   ],
   "source": [
    "state"
   ]
  },
  {
   "cell_type": "code",
   "execution_count": 13,
   "id": "df221060-cb62-4ef8-a828-01e3eb2dca90",
   "metadata": {},
   "outputs": [],
   "source": [
    "states = permutations(state)"
   ]
  },
  {
   "cell_type": "code",
   "execution_count": 14,
   "id": "3d4e3946-ce5f-4910-8ed8-1d15489f6d51",
   "metadata": {},
   "outputs": [],
   "source": [
    "energy_state = {}\n",
    "energies = np.empty(size)"
   ]
  },
  {
   "cell_type": "code",
   "execution_count": 15,
   "id": "df0663f1-cd42-40d4-967b-7a9d1ab638dd",
   "metadata": {},
   "outputs": [],
   "source": [
    "for state in range(len(states)):\n",
    "    energy = np.dot(states[state],arr_sorted)\n",
    "    energies[state] = energy\n",
    "    energy_state[energy] = states[state]"
   ]
  },
  {
   "cell_type": "code",
   "execution_count": 16,
   "id": "a8435a6b-3bd2-4591-875a-b8de4ee67510",
   "metadata": {},
   "outputs": [],
   "source": [
    "sorted_energies = np.sort(energies)"
   ]
  },
  {
   "cell_type": "code",
   "execution_count": 17,
   "id": "15d169f3-06af-42f7-9381-98a364ec4f20",
   "metadata": {},
   "outputs": [],
   "source": [
    "sorted_dict = {}"
   ]
  },
  {
   "cell_type": "code",
   "execution_count": 18,
   "id": "78aa1480-2b3a-4acd-b753-6d396574fa8e",
   "metadata": {},
   "outputs": [],
   "source": [
    "for energy in sorted_energies:\n",
    "    sorted_dict[energy] = energy_state[energy]"
   ]
  },
  {
   "cell_type": "code",
   "execution_count": 19,
   "id": "7a7fd10f-2910-4a70-81c5-7b3a9f9fdbdd",
   "metadata": {},
   "outputs": [
    {
     "data": {
      "text/plain": [
       "Text(0, 0.5, 'Energy eigenvalues')"
      ]
     },
     "execution_count": 19,
     "metadata": {},
     "output_type": "execute_result"
    },
    {
     "data": {
      "image/png": "[encoded data removed]",
      "text/plain": [
       "<Figure size 432x288 with 1 Axes>"
      ]
     },
     "metadata": {
      "needs_background": "light"
     },
     "output_type": "display_data"
    }
   ],
   "source": [
    "fig, axes = plt.subplots()\n",
    "axes.plot(np.linspace(1,size,size),sorted_energies)\n",
    "axes.spines['top'].set_color('none')\n",
    "axes.spines['right'].set_color('none')\n",
    "axes.set_xlabel('State')\n",
    "axes.set_ylabel('Energy eigenvalues')"
   ]
  },
  {
   "cell_type": "code",
   "execution_count": 20,
   "id": "9e2f7715-257f-4ea5-98ae-628bb251c093",
   "metadata": {},
   "outputs": [],
   "source": [
    "H_0 = np.zeros((size,size))"
   ]
  },
  {
   "cell_type": "code",
   "execution_count": 21,
   "id": "f2cab12d-8769-4f9d-aeb3-fc72fc569178",
   "metadata": {},
   "outputs": [],
   "source": [
    "for i in range(size):\n",
    "    H_0[i][i] = sorted_energies[i]"
   ]
  },
  {
   "cell_type": "code",
   "execution_count": 22,
   "id": "f313f141-5795-4c9c-b03a-a9e3eab2ccf1",
   "metadata": {},
   "outputs": [],
   "source": [
    "w = np.empty((size,size))"
   ]
  },
  {
   "cell_type": "code",
   "execution_count": 23,
   "id": "faf6677c-7add-4cc4-b0a0-ad94e1d41846",
   "metadata": {},
   "outputs": [],
   "source": [
    "for i in range(size):\n",
    "    for j in range(size):\n",
    "        w[i][j] = normal(0,1)"
   ]
  },
  {
   "cell_type": "code",
   "execution_count": 24,
   "id": "84b7ba5e-518d-4edb-b1aa-55e999f6b055",
   "metadata": {},
   "outputs": [],
   "source": [
    "w_T = np.transpose(w)"
   ]
  },
  {
   "cell_type": "code",
   "execution_count": 25,
   "id": "61a7c10b-2354-4885-a715-d4fdcdb40e89",
   "metadata": {},
   "outputs": [],
   "source": [
    "W = (w+w_T)/2 #ensuring that the random matrix is real and symmetric"
   ]
  },
  {
   "cell_type": "code",
   "execution_count": 26,
   "id": "f8bda540-7bf4-4ca6-8dec-f485b4591e4b",
   "metadata": {},
   "outputs": [],
   "source": [
    "H = H_0 + W #H is the hamiltonian with interactions due to the random matrix (non-diagonal)"
   ]
  },
  {
   "cell_type": "markdown",
   "id": "625d40f1-0312-4afb-92bb-b01970f799c4",
   "metadata": {},
   "source": [
    "Diagonalisation of H:"
   ]
  },
  {
   "cell_type": "code",
   "execution_count": 27,
   "id": "4a808e0a-be79-45a6-a584-3013a12563c2",
   "metadata": {},
   "outputs": [],
   "source": [
    "hCUDA = CP.CUDAContext() #obtain CUDA context (only 1 needed)\n",
    "\n",
    "hCUBLAS = CP.CUBLASContext() \n",
    "hCUBLAS.Create() #create CUBLAS context (for basic linear algebra ops)\n",
    "\n",
    "hCUSolverDense = CP.CUSolverDenseContext()\n",
    "hCUSolverDense.Create() #create CUSolver Context (for dense matrix ops)"
   ]
  },
  {
   "cell_type": "code",
   "execution_count": 28,
   "id": "0ed9b116-4444-4ddf-a918-998f83829359",
   "metadata": {},
   "outputs": [],
   "source": [
    "#allocating memory on the CPU to fit a matrix of size size X size\n",
    "hHostMatrix = CP.CUDAHostMemory()\n",
    "hHostMatrix.Allocate2D(CP.CUDANumericSizeRD, size, size, CP.CUDAHostMemoryAllocFlags.PINNED)\n",
    "\n",
    "hHostVector = CP.CUDAHostMemory()\n",
    "hHostVector.Allocate1D(CP.CUDANumericSizeRD, size, CP.CUDAHostMemoryAllocFlags.PINNED)"
   ]
  },
  {
   "cell_type": "code",
   "execution_count": 29,
   "id": "0cc41d5d-5f82-43e9-98a6-315a3b20069b",
   "metadata": {},
   "outputs": [],
   "source": [
    "for i in range(size):\n",
    "    for j in range(size):\n",
    "        hHostMatrix.WriteRD(CP.CUDAMemoryPosition(i,j,0), H[i][j]) #initialising values"
   ]
  },
  {
   "cell_type": "code",
   "execution_count": 30,
   "id": "bd983c9f-a708-4dc1-b8d6-14a070f2c8f5",
   "metadata": {},
   "outputs": [],
   "source": [
    "#allocating memory on the GPU to fit a matrix of size size X size\n",
    "hDeviceMatrixA = CP.CUDADeviceMemory()\n",
    "hDeviceMatrixA.Allocate2D(CP.CUDANumericSizeRD, size, size)\n",
    "\n",
    "hDeviceVectorX = CP.CUDADeviceMemory()\n",
    "hDeviceVectorX.Allocate1D(CP.CUDANumericSizeRD, size)"
   ]
  },
  {
   "cell_type": "code",
   "execution_count": 31,
   "id": "16e2c9f1-afce-4734-92d5-272c52a1eeff",
   "metadata": {},
   "outputs": [],
   "source": [
    "hCUBLAS.SetMatrix(hDeviceMatrixA, CP.CUDAMemoryPosition(), hHostMatrix, CP.CUDAMemoryPosition(), CP.CUDAMemoryRegion(size,size,1)) #copy memory from CPU to GPU\n",
    "hCUDA.WaitForCurrentDevice() #sync"
   ]
  },
  {
   "cell_type": "code",
   "execution_count": 32,
   "id": "808fce80-f6a2-4556-a665-ad6e5ba87e4b",
   "metadata": {},
   "outputs": [],
   "source": [
    "#build and setup of solver\n",
    "hEigenSolver = CP.CUSolverDenseEigenValue(hCUSolverDense)\n",
    "hEigenSolver.SetMatrixA(hDeviceMatrixA)\n",
    "hEigenSolver.SetMatrixFillModeA(CP.CUBLASContextFillMode.UPPER)\n",
    "hEigenSolver.SetVectorX(hDeviceVectorX)\n",
    "hEigenSolver.SetAlgorithm(CP.CUSolverDenseEigenValueAlgorithm.QR) #householder reduction method???\n",
    "hEigenSolver.ComputeEigenVectors(True)"
   ]
  },
  {
   "cell_type": "code",
   "execution_count": 33,
   "id": "1e0e2ea7-e6b7-4c05-a195-51b4f5c5c4c9",
   "metadata": {},
   "outputs": [],
   "source": [
    "hEigenSolver.PrepareRD() #allocates workspace memory"
   ]
  },
  {
   "cell_type": "code",
   "execution_count": 34,
   "id": "3a036a82-79b5-424a-9009-82c678c702f7",
   "metadata": {},
   "outputs": [],
   "source": [
    "#solve and sync\n",
    "hEigenSolver.SolveRD()\n",
    "hCUDA.WaitForCurrentDevice()\n",
    "hEigenSolver.UpdateStateAfterSync()"
   ]
  },
  {
   "cell_type": "code",
   "execution_count": 35,
   "id": "0e45ae13-adfb-4eb4-be0c-00c558cac09b",
   "metadata": {},
   "outputs": [],
   "source": [
    "#copy memory from GPU to CPU\n",
    "hCUBLAS.GetMatrix(hHostMatrix, CP.CUDAMemoryPosition(), hDeviceMatrixA, CP.CUDAMemoryPosition(), CP.CUDAMemoryRegion(size, size, 1))\n",
    "hCUDA.WaitForCurrentDevice()\n",
    "\n",
    "hCUBLAS.GetVector(hHostVector, CP.CUDAMemoryPosition(), hDeviceVectorX, CP.CUDAMemoryPosition(), CP.CUDAMemoryRegion(size, 1, 1))\n",
    "hCUDA.WaitForCurrentDevice()"
   ]
  },
  {
   "cell_type": "code",
   "execution_count": 36,
   "id": "4e5bb9c2-b9b0-491c-906d-a73ea203d89c",
   "metadata": {},
   "outputs": [],
   "source": [
    "hPos = CP.CUDAMemoryPosition()"
   ]
  },
  {
   "cell_type": "code",
   "execution_count": 37,
   "id": "62988dae-456d-4915-89d4-58b9afe06c2e",
   "metadata": {},
   "outputs": [],
   "source": [
    "H_diag = np.zeros((size, size))"
   ]
  },
  {
   "cell_type": "code",
   "execution_count": 38,
   "id": "ac53ed7b-3067-48c3-a427-0a0448fbc586",
   "metadata": {},
   "outputs": [],
   "source": [
    "for hPos.iX in range(size):\n",
    "    H_diag[hPos.iX][hPos.iX] = hHostVector.ReadRD(hPos)"
   ]
  },
  {
   "cell_type": "code",
   "execution_count": 39,
   "id": "aaff679a-fad4-42c9-b8b7-d355a9090e50",
   "metadata": {},
   "outputs": [],
   "source": [
    "#free memory and destroy contexts\n",
    "hDeviceVectorX.Free()\n",
    "hDeviceMatrixA.Free()\n",
    "hHostVector.Free()\n",
    "hHostMatrix.Free()\n",
    "\n",
    "hCUSolverDense.Destroy()\n",
    "hCUBLAS.Destroy()"
   ]
  },
  {
   "cell_type": "code",
   "execution_count": 40,
   "id": "8fdf4762-f14b-4f2b-9477-b37498d4d0cd",
   "metadata": {},
   "outputs": [
    {
     "data": {
      "text/plain": [
       "Text(0, 0.5, 'Energy eigenvalues')"
      ]
     },
     "execution_count": 40,
     "metadata": {},
     "output_type": "execute_result"
    },
    {
     "data": {
      "image/png": "[encoded data removed]",
      "text/plain": [
       "<Figure size 432x288 with 1 Axes>"
      ]
     },
     "metadata": {
      "needs_background": "light"
     },
     "output_type": "display_data"
    }
   ],
   "source": [
    "fig, axes = plt.subplots()\n",
    "axes.plot(np.linspace(1,size,size),[H_diag[i][i] for i in range(size)])\n",
    "axes.spines['top'].set_color('none')\n",
    "axes.spines['right'].set_color('none')\n",
    "axes.set_xlabel('State')\n",
    "axes.set_ylabel('Energy eigenvalues')"
   ]
  },
  {
   "cell_type": "code",
   "execution_count": 41,
   "id": "7ff6f002-ffe5-4195-91e8-f61f21800ef1",
   "metadata": {},
   "outputs": [],
   "source": [
    "eigenvalues_states_mapping = {}"
   ]
  },
  {
   "cell_type": "code",
   "execution_count": 42,
   "id": "df602c0c-0036-4699-bda0-6e591451f2e2",
   "metadata": {},
   "outputs": [],
   "source": [
    "for i in range(size):\n",
    "    eigenvalues_states_mapping[H_diag[i][i]] = list(sorted_dict.values())[i]"
   ]
  },
  {
   "cell_type": "code",
   "execution_count": 43,
   "id": "6633403e-bb4a-4c75-be19-d0aa4789aaa6",
   "metadata": {},
   "outputs": [
    {
     "data": {
      "text/plain": [
       "{-17.3891775129273: (1, 1, 1, 1, 1, 0, 0, 0, 0, 0),\n",
       " -16.129224760483265: (1, 1, 1, 1, 0, 1, 0, 0, 0, 0),\n",
       " -15.71236389857035: (1, 1, 1, 1, 0, 0, 1, 0, 0, 0),\n",
       " -15.560969856199124: (1, 1, 1, 1, 0, 0, 0, 1, 0, 0),\n",
       " -14.983038149616693: (1, 1, 1, 1, 0, 0, 0, 0, 1, 0),\n",
       " -14.895799380373662: (1, 1, 1, 0, 1, 1, 0, 0, 0, 0),\n",
       " -14.727064414829208: (1, 1, 1, 0, 1, 0, 1, 0, 0, 0),\n",
       " -14.202274329947283: (1, 1, 0, 1, 1, 1, 0, 0, 0, 0),\n",
       " -13.89415618655918: (1, 1, 0, 1, 1, 0, 1, 0, 0, 0),\n",
       " -13.601857417638389: (1, 0, 1, 1, 1, 1, 0, 0, 0, 0),\n",
       " -13.462565158349095: (1, 0, 1, 1, 1, 0, 1, 0, 0, 0),\n",
       " -13.281910699462413: (1, 1, 1, 0, 1, 0, 0, 1, 0, 0),\n",
       " -12.88296813356777: (1, 1, 0, 1, 1, 0, 0, 1, 0, 0),\n",
       " -12.643786852803839: (1, 0, 1, 1, 1, 0, 0, 1, 0, 0),\n",
       " -12.571608921513317: (1, 1, 1, 0, 1, 0, 0, 0, 1, 0),\n",
       " -12.380922098450137: (1, 1, 0, 1, 1, 0, 0, 0, 1, 0),\n",
       " -12.142129367102884: (1, 0, 1, 1, 1, 0, 0, 0, 1, 0),\n",
       " -11.777620259621772: (1, 1, 1, 1, 0, 0, 0, 0, 0, 1),\n",
       " -11.510638353619756: (0, 1, 1, 1, 1, 1, 0, 0, 0, 0),\n",
       " -11.394105757875165: (0, 1, 1, 1, 1, 0, 1, 0, 0, 0),\n",
       " -11.362057167348546: (1, 1, 1, 0, 0, 1, 1, 0, 0, 0),\n",
       " -10.915531434663748: (1, 1, 0, 1, 0, 1, 1, 0, 0, 0),\n",
       " -10.884800586744179: (1, 0, 1, 1, 0, 1, 1, 0, 0, 0),\n",
       " -10.755671043751052: (0, 1, 1, 1, 1, 0, 0, 1, 0, 0),\n",
       " -10.45070234254526: (1, 1, 1, 0, 0, 1, 0, 1, 0, 0),\n",
       " -10.263637155225009: (1, 1, 1, 0, 0, 0, 1, 1, 0, 0),\n",
       " -9.925387936221574: (1, 1, 0, 1, 0, 1, 0, 1, 0, 0),\n",
       " -9.834535689992558: (1, 1, 0, 1, 0, 0, 1, 1, 0, 0),\n",
       " -9.543529950307944: (1, 0, 1, 1, 0, 1, 0, 1, 0, 0),\n",
       " -9.436412577279581: (1, 0, 1, 1, 0, 0, 1, 1, 0, 0),\n",
       " -9.372543932104229: (1, 1, 1, 0, 1, 0, 0, 0, 0, 1),\n",
       " -9.14378502510165: (0, 1, 1, 1, 1, 0, 0, 0, 1, 0),\n",
       " -9.03180397987105: (1, 1, 1, 0, 0, 1, 0, 0, 1, 0),\n",
       " -8.91051403448841: (1, 1, 1, 0, 0, 0, 1, 0, 1, 0),\n",
       " -8.594396419305548: (1, 1, 0, 1, 1, 0, 0, 0, 0, 1),\n",
       " -8.35516686116202: (1, 1, 0, 1, 0, 1, 0, 0, 1, 0),\n",
       " -8.170776744925234: (1, 1, 0, 1, 0, 0, 1, 0, 1, 0),\n",
       " -7.993789771836098: (1, 0, 1, 1, 1, 0, 0, 0, 0, 1),\n",
       " -7.686060411969976: (1, 1, 0, 0, 1, 1, 1, 0, 0, 0),\n",
       " -7.615004767406032: (1, 0, 1, 1, 0, 1, 0, 0, 1, 0),\n",
       " -7.46027921532588: (1, 0, 1, 1, 0, 0, 1, 0, 1, 0),\n",
       " -7.344762755837771: (1, 0, 1, 0, 1, 1, 1, 0, 0, 0),\n",
       " -7.199113018352113: (0, 1, 1, 1, 0, 1, 1, 0, 0, 0),\n",
       " -7.132464534506643: (1, 1, 1, 0, 0, 0, 0, 1, 1, 0),\n",
       " -6.994764822863612: (1, 0, 0, 1, 1, 1, 1, 0, 0, 0),\n",
       " -6.785463222065286: (1, 1, 0, 1, 0, 0, 0, 1, 1, 0),\n",
       " -6.550521525333243: (1, 1, 0, 0, 1, 1, 0, 1, 0, 0),\n",
       " -6.4457622888532: (1, 1, 0, 0, 1, 0, 1, 1, 0, 0),\n",
       " -6.238719467038534: (1, 0, 1, 1, 0, 0, 0, 1, 1, 0),\n",
       " -6.018794026035701: (1, 0, 1, 0, 1, 1, 0, 1, 0, 0),\n",
       " -5.751595713737281: (1, 0, 1, 0, 1, 0, 1, 1, 0, 0),\n",
       " -5.739150142206947: (0, 1, 1, 1, 0, 1, 0, 1, 0, 0),\n",
       " -5.6338861422107644: (0, 1, 1, 1, 0, 0, 1, 1, 0, 0),\n",
       " -5.452057817755308: (1, 0, 0, 1, 1, 1, 0, 1, 0, 0),\n",
       " -5.3228826616730505: (1, 0, 0, 1, 1, 0, 1, 1, 0, 0),\n",
       " -5.197102449144697: (1, 1, 0, 0, 1, 1, 0, 0, 1, 0),\n",
       " -4.9480789961420335: (1, 1, 0, 0, 1, 0, 1, 0, 1, 0),\n",
       " -4.617980474345046: (1, 0, 1, 0, 1, 1, 0, 0, 1, 0),\n",
       " -4.540668219903947: (1, 0, 1, 0, 1, 0, 1, 0, 1, 0),\n",
       " -4.450352769173503: (0, 1, 1, 1, 1, 0, 0, 0, 0, 1),\n",
       " -4.301760207886662: (1, 1, 1, 0, 0, 1, 0, 0, 0, 1),\n",
       " -4.2198962862425855: (1, 1, 1, 0, 0, 0, 1, 0, 0, 1),\n",
       " -3.967312085132272: (0, 1, 1, 1, 0, 1, 0, 0, 1, 0),\n",
       " -3.8544400437688675: (0, 1, 1, 1, 0, 0, 1, 0, 1, 0),\n",
       " -3.680007946434295: (0, 1, 1, 0, 1, 1, 1, 0, 0, 0),\n",
       " -3.591795078679442: (1, 0, 0, 1, 1, 1, 0, 0, 1, 0),\n",
       " -3.580604131066458: (1, 0, 0, 1, 1, 0, 1, 0, 1, 0),\n",
       " -3.186761830452176: (1, 1, 0, 1, 0, 1, 0, 0, 0, 1),\n",
       " -3.031487729533096: (1, 1, 0, 1, 0, 0, 1, 0, 0, 1),\n",
       " -2.8798433057856854: (0, 1, 0, 1, 1, 1, 1, 0, 0, 0),\n",
       " -2.742977271713195: (1, 1, 0, 0, 1, 0, 0, 1, 1, 0),\n",
       " -2.655178724495298: (1, 0, 1, 1, 0, 1, 0, 0, 0, 1),\n",
       " -2.571778653696217: (1, 0, 1, 1, 0, 0, 1, 0, 0, 1),\n",
       " -2.393967034927082: (0, 0, 1, 1, 1, 1, 1, 0, 0, 0),\n",
       " -2.3274230744486144: (1, 0, 1, 0, 1, 0, 0, 1, 1, 0),\n",
       " -2.129059923368263: (1, 1, 1, 0, 0, 0, 0, 1, 0, 1),\n",
       " -2.0141012678214922: (0, 1, 1, 1, 0, 0, 0, 1, 1, 0),\n",
       " -1.9100957981322362: (0, 1, 1, 0, 1, 1, 0, 1, 0, 0),\n",
       " -1.7264056914381156: (0, 1, 1, 0, 1, 0, 1, 1, 0, 0),\n",
       " -1.5181040283745941: (1, 0, 0, 1, 1, 0, 0, 1, 1, 0),\n",
       " -1.3265812753942612: (1, 1, 0, 1, 0, 0, 0, 1, 0, 1),\n",
       " -1.229088565412224: (0, 1, 0, 1, 1, 1, 0, 1, 0, 0),\n",
       " -1.113773389252423: (0, 1, 0, 1, 1, 0, 1, 1, 0, 0),\n",
       " -0.8997670604671564: (1, 0, 1, 1, 0, 0, 0, 1, 0, 1),\n",
       " -0.7888611720857903: (1, 1, 0, 0, 0, 1, 1, 1, 0, 0),\n",
       " -0.6859868593152862: (0, 0, 1, 1, 1, 1, 0, 1, 0, 0),\n",
       " -0.5114886550219021: (0, 0, 1, 1, 1, 0, 1, 1, 0, 0),\n",
       " -0.3750398090057923: (1, 0, 1, 0, 0, 1, 1, 1, 0, 0),\n",
       " -0.2734454479885665: (1, 0, 0, 1, 0, 1, 1, 1, 0, 0),\n",
       " -0.2180673358174123: (1, 1, 1, 0, 0, 0, 0, 0, 1, 1),\n",
       " 0.01830732604055879: (0, 1, 1, 0, 1, 1, 0, 0, 1, 0),\n",
       " 0.24690121335107787: (0, 1, 1, 0, 1, 0, 1, 0, 1, 0),\n",
       " 0.41125075791248783: (1, 1, 0, 1, 0, 0, 0, 0, 1, 1),\n",
       " 0.5799533416122359: (1, 1, 0, 0, 1, 1, 0, 0, 0, 1),\n",
       " 0.6487389229129027: (1, 1, 0, 0, 1, 0, 1, 0, 0, 1),\n",
       " 0.9042717029865186: (0, 1, 0, 1, 1, 1, 0, 0, 1, 0),\n",
       " 1.0145869069469273: (0, 1, 0, 1, 1, 0, 1, 0, 1, 0),\n",
       " 1.244643901592749: (1, 0, 1, 1, 0, 0, 0, 0, 1, 1),\n",
       " 1.275816055300866: (1, 1, 0, 0, 0, 1, 1, 0, 1, 0),\n",
       " 1.3965931534388045: (1, 0, 1, 0, 1, 1, 0, 0, 0, 1),\n",
       " 1.5958550806514429: (1, 0, 1, 0, 1, 0, 1, 0, 0, 1),\n",
       " 1.6101540593528856: (0, 0, 1, 1, 1, 1, 0, 0, 1, 0),\n",
       " 1.8001992131107036: (0, 0, 1, 1, 1, 0, 1, 0, 1, 0),\n",
       " 2.033348587776282: (1, 0, 1, 0, 0, 1, 1, 0, 1, 0),\n",
       " 2.0753447598819585: (0, 1, 1, 1, 0, 1, 0, 0, 0, 1),\n",
       " 2.18106205732396: (0, 1, 1, 1, 0, 0, 1, 0, 0, 1),\n",
       " 2.4038853248251133: (0, 1, 1, 0, 1, 0, 0, 1, 1, 0),\n",
       " 2.542160475771397: (1, 0, 0, 1, 1, 1, 0, 0, 0, 1),\n",
       " 2.7469566384798085: (1, 0, 0, 1, 1, 0, 1, 0, 0, 1),\n",
       " 2.7963584286318235: (1, 0, 0, 1, 0, 1, 1, 0, 1, 0),\n",
       " 3.0028535819515367: (1, 1, 0, 0, 1, 0, 0, 1, 0, 1),\n",
       " 3.11965986998693: (0, 1, 0, 1, 1, 0, 0, 1, 1, 0),\n",
       " 3.1860377164355453: (1, 1, 0, 0, 0, 1, 0, 1, 1, 0),\n",
       " 3.316846587409596: (1, 1, 0, 0, 0, 0, 1, 1, 1, 0),\n",
       " 3.6037007517683532: (1, 0, 1, 0, 1, 0, 0, 1, 0, 1),\n",
       " 3.7346213801983583: (0, 0, 1, 1, 1, 0, 0, 1, 1, 0),\n",
       " 3.874092657791113: (1, 0, 1, 0, 0, 1, 0, 1, 1, 0),\n",
       " 4.149829756960591: (1, 0, 1, 0, 0, 0, 1, 1, 1, 0),\n",
       " 4.330236098176328: (0, 1, 1, 1, 0, 0, 0, 1, 0, 1),\n",
       " 4.409203077418898: (1, 0, 0, 1, 1, 0, 0, 1, 0, 1),\n",
       " 4.484112939497234: (0, 1, 1, 0, 0, 1, 1, 1, 0, 0),\n",
       " 4.7238415156958835: (1, 0, 0, 1, 0, 1, 0, 1, 1, 0),\n",
       " 4.781776882601616: (1, 0, 0, 1, 0, 0, 1, 1, 1, 0),\n",
       " 4.894421236524226: (1, 0, 0, 0, 1, 1, 1, 1, 0, 0),\n",
       " 4.959362610710493: (0, 1, 0, 1, 0, 1, 1, 1, 0, 0),\n",
       " 5.154399448878014: (0, 0, 1, 1, 0, 1, 1, 1, 0, 0),\n",
       " 5.361744469719219: (1, 1, 0, 0, 1, 0, 0, 0, 1, 1),\n",
       " 5.390317831536806: (1, 0, 1, 0, 1, 0, 0, 0, 1, 1),\n",
       " 5.550817163302155: (0, 1, 1, 1, 0, 0, 0, 0, 1, 1),\n",
       " 5.7366184601592245: (0, 1, 1, 0, 1, 1, 0, 0, 0, 1),\n",
       " 5.809676784511855: (0, 1, 1, 0, 1, 0, 1, 0, 0, 1),\n",
       " 5.982624884862858: (1, 0, 0, 1, 1, 0, 0, 0, 1, 1),\n",
       " 6.210293090988853: (0, 1, 1, 0, 0, 1, 1, 0, 1, 0),\n",
       " 6.344466179129864: (1, 0, 0, 0, 1, 1, 1, 0, 1, 0),\n",
       " 6.560950746252606: (0, 1, 0, 1, 1, 1, 0, 0, 0, 1),\n",
       " 6.7300043240631915: (0, 1, 0, 1, 1, 0, 1, 0, 0, 1),\n",
       " 6.789249627098063: (1, 1, 0, 0, 0, 1, 1, 0, 0, 1),\n",
       " 6.921012295693401: (0, 1, 0, 1, 0, 1, 1, 0, 1, 0),\n",
       " 7.03514927634296: (0, 0, 1, 1, 1, 1, 0, 0, 0, 1),\n",
       " 7.140987045476523: (0, 0, 1, 1, 1, 0, 1, 0, 0, 1),\n",
       " 7.450066728600412: (1, 0, 1, 0, 0, 1, 1, 0, 0, 1),\n",
       " 7.58535839492392: (0, 0, 1, 1, 0, 1, 1, 0, 1, 0),\n",
       " 7.610806640357272: (0, 1, 1, 0, 1, 0, 0, 1, 0, 1),\n",
       " 7.7475074434604325: (0, 1, 1, 0, 0, 1, 0, 1, 1, 0),\n",
       " 7.811897131773716: (0, 1, 1, 0, 0, 0, 1, 1, 1, 0),\n",
       " 7.994547613448282: (1, 0, 0, 1, 0, 1, 1, 0, 0, 1),\n",
       " 8.105465577746932: (1, 0, 0, 0, 1, 1, 0, 1, 1, 0),\n",
       " 8.145162111510022: (1, 0, 0, 0, 1, 0, 1, 1, 1, 0),\n",
       " 8.289909289817977: (0, 1, 0, 1, 1, 0, 0, 1, 0, 1),\n",
       " 8.45984225173881: (1, 1, 0, 0, 0, 1, 0, 1, 0, 1),\n",
       " 8.630990006227591: (1, 1, 0, 0, 0, 0, 1, 1, 0, 1),\n",
       " 8.821096811785331: (0, 1, 0, 1, 0, 1, 0, 1, 1, 0),\n",
       " 9.089976850349991: (0, 1, 0, 1, 0, 0, 1, 1, 1, 0),\n",
       " 9.368616646531546: (0, 0, 1, 1, 1, 0, 0, 1, 0, 1),\n",
       " 9.3874947121536: (0, 1, 0, 0, 1, 1, 1, 1, 0, 0),\n",
       " 9.494387735792776: (1, 0, 1, 0, 0, 1, 0, 1, 0, 1),\n",
       " 9.677919055597057: (1, 0, 1, 0, 0, 0, 1, 1, 0, 1),\n",
       " 9.860523455735153: (0, 0, 1, 1, 0, 1, 0, 1, 1, 0),\n",
       " 9.937431102409395: (0, 0, 1, 1, 0, 0, 1, 1, 1, 0),\n",
       " 10.013292053326555: (0, 0, 1, 0, 1, 1, 1, 1, 0, 0),\n",
       " 10.111765648231373: (1, 0, 0, 1, 0, 1, 0, 1, 0, 1),\n",
       " 10.370787685580659: (1, 0, 0, 1, 0, 0, 1, 1, 0, 1),\n",
       " 10.398424968266498: (0, 0, 0, 1, 1, 1, 1, 1, 0, 0),\n",
       " 10.504362493951552: (0, 1, 1, 0, 1, 0, 0, 0, 1, 1),\n",
       " 10.731289006541447: (0, 1, 0, 1, 1, 0, 0, 0, 1, 1),\n",
       " 10.951175772000214: (1, 1, 0, 0, 0, 1, 0, 0, 1, 1),\n",
       " 11.066674347192427: (1, 1, 0, 0, 0, 0, 1, 0, 1, 1),\n",
       " 11.328801102028448: (0, 0, 1, 1, 1, 0, 0, 0, 1, 1),\n",
       " 11.412240836924664: (0, 1, 0, 0, 1, 1, 1, 0, 1, 0),\n",
       " 11.450703804434394: (1, 0, 1, 0, 0, 1, 0, 0, 1, 1),\n",
       " 11.649034504412406: (1, 0, 1, 0, 0, 0, 1, 0, 1, 1),\n",
       " 11.857292820112054: (0, 0, 1, 0, 1, 1, 1, 0, 1, 0),\n",
       " 11.96453444389948: (0, 1, 1, 0, 0, 1, 1, 0, 0, 1),\n",
       " 12.026071895140328: (1, 0, 0, 1, 0, 1, 0, 0, 1, 1),\n",
       " 12.157379925049286: (1, 0, 0, 1, 0, 0, 1, 0, 1, 1),\n",
       " 12.280548303685904: (1, 0, 0, 0, 1, 1, 1, 0, 0, 1),\n",
       " 12.417680118207123: (0, 0, 0, 1, 1, 1, 1, 0, 1, 0),\n",
       " 12.599873214574917: (0, 1, 0, 1, 0, 1, 1, 0, 0, 1),\n",
       " 12.750424365128858: (1, 1, 0, 0, 0, 0, 0, 1, 1, 1),\n",
       " 12.986933860102777: (0, 1, 0, 0, 1, 1, 0, 1, 1, 0),\n",
       " 13.1545361497854: (0, 1, 0, 0, 1, 0, 1, 1, 1, 0),\n",
       " 13.245151673690463: (0, 0, 1, 1, 0, 1, 1, 0, 0, 1),\n",
       " 13.436897480811957: (1, 0, 1, 0, 0, 0, 0, 1, 1, 1),\n",
       " 13.621478558430404: (0, 0, 1, 0, 1, 1, 0, 1, 1, 0),\n",
       " 13.745782187208624: (0, 0, 1, 0, 1, 0, 1, 1, 1, 0),\n",
       " 13.798029140189833: (0, 1, 1, 0, 0, 1, 0, 1, 0, 1),\n",
       " 14.03329160482469: (0, 1, 1, 0, 0, 0, 1, 1, 0, 1),\n",
       " 14.19534213124559: (1, 0, 0, 1, 0, 0, 0, 1, 1, 1),\n",
       " 14.294281002243354: (1, 0, 0, 0, 1, 1, 0, 1, 0, 1),\n",
       " 14.34116720528844: (1, 0, 0, 0, 1, 0, 1, 1, 0, 1),\n",
       " 14.556422880941465: (0, 0, 0, 1, 1, 1, 0, 1, 1, 0),\n",
       " 14.697460979227198: (0, 0, 0, 1, 1, 0, 1, 1, 1, 0),\n",
       " 14.81475646450731: (1, 0, 0, 0, 0, 1, 1, 1, 1, 0),\n",
       " 14.910596308252396: (0, 1, 0, 1, 0, 1, 0, 1, 0, 1),\n",
       " 15.152032488766727: (0, 1, 0, 1, 0, 0, 1, 1, 0, 1),\n",
       " 15.192368754956458: (0, 0, 1, 1, 0, 1, 0, 1, 0, 1),\n",
       " 15.562472250382001: (0, 0, 1, 1, 0, 0, 1, 1, 0, 1),\n",
       " 15.703578807392873: (0, 1, 1, 0, 0, 1, 0, 0, 1, 1),\n",
       " 15.849073685683058: (0, 1, 1, 0, 0, 0, 1, 0, 1, 1),\n",
       " 15.997828705359735: (1, 0, 0, 0, 1, 1, 0, 0, 1, 1),\n",
       " 16.197723607088204: (1, 0, 0, 0, 1, 0, 1, 0, 1, 1),\n",
       " 16.415816718050056: (0, 1, 0, 1, 0, 1, 0, 0, 1, 1),\n",
       " 16.538286333163832: (0, 1, 0, 1, 0, 0, 1, 0, 1, 1),\n",
       " 16.674640828091132: (0, 1, 0, 0, 1, 1, 1, 0, 0, 1),\n",
       " 16.936362250142487: (0, 0, 1, 1, 0, 1, 0, 0, 1, 1),\n",
       " 17.036631105100188: (0, 0, 1, 1, 0, 0, 1, 0, 1, 1),\n",
       " 17.158386834390026: (0, 0, 1, 0, 1, 1, 1, 0, 0, 1),\n",
       " 17.347021046967495: (0, 1, 1, 0, 0, 0, 0, 1, 1, 1),\n",
       " 17.572839462076146: (0, 0, 0, 1, 1, 1, 1, 0, 0, 1),\n",
       " 17.673261559554852: (1, 0, 0, 0, 1, 0, 0, 1, 1, 1),\n",
       " 17.913226497704436: (0, 1, 0, 1, 0, 0, 0, 1, 1, 1),\n",
       " 18.02518506698546: (0, 1, 0, 0, 1, 1, 0, 1, 0, 1),\n",
       " 18.121530480247504: (0, 1, 0, 0, 1, 0, 1, 1, 0, 1),\n",
       " 18.31679312102899: (0, 0, 1, 1, 0, 0, 0, 1, 1, 1),\n",
       " 18.430468465940482: (0, 1, 0, 0, 0, 1, 1, 1, 1, 0),\n",
       " 18.5517222430232: (0, 0, 1, 0, 1, 1, 0, 1, 0, 1),\n",
       " 18.867755362635982: (0, 0, 1, 0, 1, 0, 1, 1, 0, 1),\n",
       " 19.02190358156211: (0, 0, 1, 0, 0, 1, 1, 1, 1, 0),\n",
       " 19.15026014296058: (0, 0, 0, 1, 1, 1, 0, 1, 0, 1),\n",
       " 19.497691073797295: (0, 0, 0, 1, 1, 0, 1, 1, 0, 1),\n",
       " 19.58819260332362: (1, 0, 0, 0, 0, 1, 1, 1, 0, 1),\n",
       " 19.795486436993674: (0, 0, 0, 1, 0, 1, 1, 1, 1, 0),\n",
       " 19.90451369390465: (0, 1, 0, 0, 1, 1, 0, 0, 1, 1),\n",
       " 20.251753379165436: (0, 1, 0, 0, 1, 0, 1, 0, 1, 1),\n",
       " 20.52426108171431: (0, 0, 1, 0, 1, 1, 0, 0, 1, 1),\n",
       " 20.603540672846577: (0, 0, 1, 0, 1, 0, 1, 0, 1, 1),\n",
       " 20.663935710782532: (0, 0, 0, 1, 1, 1, 0, 0, 1, 1),\n",
       " 20.814614665732872: (0, 0, 0, 1, 1, 0, 1, 0, 1, 1),\n",
       " 20.941634825908835: (1, 0, 0, 0, 0, 1, 1, 0, 1, 1),\n",
       " 21.3393840805861: (0, 1, 0, 0, 1, 0, 0, 1, 1, 1),\n",
       " 21.47857091313269: (0, 0, 1, 0, 1, 0, 0, 1, 1, 1),\n",
       " 21.639448362668784: (0, 0, 0, 1, 1, 0, 0, 1, 1, 1),\n",
       " 21.82130280008359: (1, 0, 0, 0, 0, 1, 0, 1, 1, 1),\n",
       " 22.082294790048678: (1, 0, 0, 0, 0, 0, 1, 1, 1, 1),\n",
       " 22.27147019838568: (0, 0, 0, 0, 1, 1, 1, 1, 1, 0),\n",
       " 22.602523954294593: (0, 1, 0, 0, 0, 1, 1, 1, 0, 1),\n",
       " 22.754203909592636: (0, 0, 1, 0, 0, 1, 1, 1, 0, 1),\n",
       " 23.00864364270954: (0, 0, 0, 1, 0, 1, 1, 1, 0, 1),\n",
       " 23.21396503714802: (0, 1, 0, 0, 0, 1, 1, 0, 1, 1),\n",
       " 23.254801135846122: (0, 0, 1, 0, 0, 1, 1, 0, 1, 1),\n",
       " 23.578673949383838: (0, 0, 0, 1, 0, 1, 1, 0, 1, 1),\n",
       " 24.012889508928247: (0, 1, 0, 0, 0, 1, 0, 1, 1, 1),\n",
       " 24.057179886255422: (0, 1, 0, 0, 0, 0, 1, 1, 1, 1),\n",
       " 24.53915947901713: (0, 0, 1, 0, 0, 1, 0, 1, 1, 1),\n",
       " 24.761174383966843: (0, 0, 1, 0, 0, 0, 1, 1, 1, 1),\n",
       " 25.12859576404884: (0, 0, 0, 1, 0, 1, 0, 1, 1, 1),\n",
       " 25.174305018729285: (0, 0, 0, 1, 0, 0, 1, 1, 1, 1),\n",
       " 25.589897576895023: (0, 0, 0, 0, 1, 1, 1, 1, 0, 1),\n",
       " 26.065216711517145: (0, 0, 0, 0, 1, 1, 1, 0, 1, 1),\n",
       " 26.263482455803288: (0, 0, 0, 0, 1, 1, 0, 1, 1, 1),\n",
       " 26.632610281556566: (0, 0, 0, 0, 1, 0, 1, 1, 1, 1),\n",
       " 27.199718885159747: (0, 0, 0, 0, 0, 1, 1, 1, 1, 1)}"
      ]
     },
     "execution_count": 43,
     "metadata": {},
     "output_type": "execute_result"
    }
   ],
   "source": [
    "eigenvalues_states_mapping"
   ]
  },
  {
   "cell_type": "code",
   "execution_count": null,
   "id": "ba461188-563e-42b5-9ccc-12e68d655ecc",
   "metadata": {},
   "outputs": [],
   "source": []
  }
 ],
 "metadata": {
  "kernelspec": {
   "display_name": "Python 3 (ipykernel)",
   "language": "python",
   "name": "python3"
  },
  "language_info": {
   "codemirror_mode": {
    "name": "ipython",
    "version": 3
   },
   "file_extension": ".py",
   "mimetype": "text/x-python",
   "name": "python",
   "nbconvert_exporter": "python",
   "pygments_lexer": "ipython3",
   "version": "3.7.8"
  }
 },
 "nbformat": 4,
 "nbformat_minor": 5
}
