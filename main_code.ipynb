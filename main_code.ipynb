{
 "cells": [
  {
   "cell_type": "code",
   "execution_count": 1,
   "id": "a401e32f-d40e-4395-b15c-53fcd689874a",
   "metadata": {},
   "outputs": [],
   "source": [
    "import numpy as np\n",
    "from numpy.random import normal\n",
    "import matplotlib.pyplot as plt\n",
    "import math\n",
    "import itertools\n",
    "import CUDAPython as CP\n",
    "from scipy.constants import hbar\n",
    "%matplotlib inline"
   ]
  },
  {
   "cell_type": "code",
   "execution_count": 2,
   "id": "9a0e81cf-f4dc-4f1d-b5f6-e13746665717",
   "metadata": {},
   "outputs": [],
   "source": [
    "#sets number of levels (k) and number of fermions (m)\n",
    "k = 10\n",
    "m = 5"
   ]
  },
  {
   "cell_type": "markdown",
   "id": "4f117f84-2a91-4bad-8ce0-931fe2434d8f",
   "metadata": {},
   "source": [
    "Generating single fermion energy levels:"
   ]
  },
  {
   "cell_type": "code",
   "execution_count": 3,
   "id": "5438af43-a94f-40b9-8a9a-b019b4df1838",
   "metadata": {},
   "outputs": [],
   "source": [
    "def generate_energies(k):\n",
    "    '''generates ordered array of k distinct energy levels'''\n",
    "    energies = np.empty(k)\n",
    "    count=0\n",
    "    while(count!=k):\n",
    "        energies[count]=normal(0,1) #samples a normal distribution k times\n",
    "        count+=1\n",
    "    min_ar = np.min(energies) #minimum of energies to use for scaling\n",
    "    scaled_ar = energies + abs(min_ar) #scaled array is generated\n",
    "    return np.sort(scaled_ar) #output is a scaled, sorted array of size k"
   ]
  },
  {
   "cell_type": "code",
   "execution_count": 4,
   "id": "a2d686de-8982-4a9d-9a90-73992cde28a1",
   "metadata": {},
   "outputs": [],
   "source": [
    "arr = generate_energies(k)"
   ]
  },
  {
   "cell_type": "code",
   "execution_count": 5,
   "id": "468c7ea9-452f-42c5-bea2-3dbfe27ffbf5",
   "metadata": {},
   "outputs": [
    {
     "data": {
      "text/plain": [
       "Text(0, 0.5, 'Energy level')"
      ]
     },
     "execution_count": 5,
     "metadata": {},
     "output_type": "execute_result"
    },
    {
     "data": {
      "image/png": "[encoded data removed]",
      "text/plain": [
       "<Figure size 432x288 with 1 Axes>"
      ]
     },
     "metadata": {
      "needs_background": "light"
     },
     "output_type": "display_data"
    }
   ],
   "source": [
    "fig, axes = plt.subplots()\n",
    "axes.plot(arr,np.linspace(1,k,k))\n",
    "axes.spines['top'].set_color('none')\n",
    "axes.spines['right'].set_color('none')\n",
    "axes.set_xlabel('Energy')\n",
    "axes.set_ylabel('Energy level')"
   ]
  },
  {
   "cell_type": "markdown",
   "id": "fc83092b-6011-4dc7-999c-d3423276f071",
   "metadata": {},
   "source": [
    "Considering m fermions on k single fermion energy levels:"
   ]
  },
  {
   "cell_type": "code",
   "execution_count": 6,
   "id": "6ce0c397-2146-4e99-a4c9-7de9cd7e7713",
   "metadata": {},
   "outputs": [],
   "source": [
    "def size(k, m):\n",
    "    '''determines the number of combination of m fermions on k energy levels'''\n",
    "    return int(math.factorial(k)/((math.factorial(k-m))*(math.factorial(m))))"
   ]
  },
  {
   "cell_type": "code",
   "execution_count": 7,
   "id": "86f0c0de-7a29-4264-9e17-f38928f4bbf7",
   "metadata": {},
   "outputs": [],
   "source": [
    "def ground_state(k, m):\n",
    "    '''initialises a ground state based on number of fermions (m) and number of energy levels (k)\n",
    "    \n",
    "    e.g. for k=10, m=5:\n",
    "    ground state is [1,1,1,1,1,0,0,0,0,0]'''\n",
    "    state = np.zeros(k, dtype=int)\n",
    "    for i in range(m):\n",
    "        state[i] = 1\n",
    "    return state"
   ]
  },
  {
   "cell_type": "code",
   "execution_count": 8,
   "id": "189bd74e-0f21-48ba-92f6-af682a0250c3",
   "metadata": {},
   "outputs": [],
   "source": [
    "def permutations(state):\n",
    "    '''returns a list of possible permutations of a given binary state'''\n",
    "    return list(set(itertools.permutations(state)))    "
   ]
  },
  {
   "cell_type": "code",
   "execution_count": 9,
   "id": "44e2ffd6-4899-4031-b20c-71ebd80281de",
   "metadata": {},
   "outputs": [],
   "source": [
    "state = ground_state(k, m) #initialises ground state"
   ]
  },
  {
   "cell_type": "code",
   "execution_count": 10,
   "id": "3a40909e-6e7d-4554-874a-4428d7442d7b",
   "metadata": {},
   "outputs": [
    {
     "data": {
      "text/plain": [
       "array([1, 1, 1, 1, 1, 0, 0, 0, 0, 0])"
      ]
     },
     "execution_count": 10,
     "metadata": {},
     "output_type": "execute_result"
    }
   ],
   "source": [
    "state"
   ]
  },
  {
   "cell_type": "code",
   "execution_count": 11,
   "id": "df221060-cb62-4ef8-a828-01e3eb2dca90",
   "metadata": {},
   "outputs": [],
   "source": [
    "states = permutations(state) #list of possible permutations of the ground state"
   ]
  },
  {
   "cell_type": "code",
   "execution_count": 12,
   "id": "3d4e3946-ce5f-4910-8ed8-1d15489f6d51",
   "metadata": {},
   "outputs": [],
   "source": [
    "energy_state = {} #empty dict for mapping energies to their corresponding state {energy: state}\n",
    "energies = np.empty(size(k,m))"
   ]
  },
  {
   "cell_type": "code",
   "execution_count": 13,
   "id": "df0663f1-cd42-40d4-967b-7a9d1ab638dd",
   "metadata": {},
   "outputs": [],
   "source": [
    "for state in range(len(states)): #looping through all possible states\n",
    "    energy = np.dot(states[state],arr) #computes energy of a given state via a dot product; energy and state arrays can be thought of as vectors -> dot product\n",
    "    energies[state] = energy\n",
    "    energy_state[energy] = states[state] #mapping the energy to its given state"
   ]
  },
  {
   "cell_type": "code",
   "execution_count": 14,
   "id": "a8435a6b-3bd2-4591-875a-b8de4ee67510",
   "metadata": {},
   "outputs": [],
   "source": [
    "sorted_energies = np.sort(energies) #sorting the energies in ascending order"
   ]
  },
  {
   "cell_type": "code",
   "execution_count": 15,
   "id": "15d169f3-06af-42f7-9381-98a364ec4f20",
   "metadata": {},
   "outputs": [],
   "source": [
    "sorted_dict = {} #empty dict to be used in mapping SORTED energies to their states (useful later)"
   ]
  },
  {
   "cell_type": "code",
   "execution_count": 16,
   "id": "78aa1480-2b3a-4acd-b753-6d396574fa8e",
   "metadata": {},
   "outputs": [],
   "source": [
    "for energy in sorted_energies:\n",
    "    sorted_dict[energy] = energy_state[energy] #mapping sorted energies to their corresponding states"
   ]
  },
  {
   "cell_type": "code",
   "execution_count": 17,
   "id": "7a7fd10f-2910-4a70-81c5-7b3a9f9fdbdd",
   "metadata": {},
   "outputs": [
    {
     "data": {
      "text/plain": [
       "Text(0, 0.5, 'Energy eigenvalues')"
      ]
     },
     "execution_count": 17,
     "metadata": {},
     "output_type": "execute_result"
    },
    {
     "data": {
      "image/png": "[encoded data removed]",
      "text/plain": [
       "<Figure size 432x288 with 1 Axes>"
      ]
     },
     "metadata": {
      "needs_background": "light"
     },
     "output_type": "display_data"
    }
   ],
   "source": [
    "fig, axes = plt.subplots()\n",
    "axes.plot(np.linspace(1,size(k,m),size(k,m)),sorted_energies)\n",
    "axes.spines['top'].set_color('none')\n",
    "axes.spines['right'].set_color('none')\n",
    "axes.set_xlabel('State')\n",
    "axes.set_ylabel('Energy eigenvalues')"
   ]
  },
  {
   "cell_type": "code",
   "execution_count": 18,
   "id": "9e2f7715-257f-4ea5-98ae-628bb251c093",
   "metadata": {},
   "outputs": [],
   "source": [
    "H_0 = np.zeros((size(k,m),size(k,m))) #generating a zero matrix which has dimensions of the number of permutations of the initial state"
   ]
  },
  {
   "cell_type": "code",
   "execution_count": 19,
   "id": "f2cab12d-8769-4f9d-aeb3-fc72fc569178",
   "metadata": {},
   "outputs": [],
   "source": [
    "for i in range(size(k,m)):\n",
    "    H_0[i][i] = sorted_energies[i] #filling the diagonals with the energy eigenvalues"
   ]
  },
  {
   "cell_type": "code",
   "execution_count": 20,
   "id": "f313f141-5795-4c9c-b03a-a9e3eab2ccf1",
   "metadata": {},
   "outputs": [],
   "source": [
    "w = np.empty((size(k,m),size(k,m))) #generating an empty matrix with the same dimensions as H_0"
   ]
  },
  {
   "cell_type": "code",
   "execution_count": 21,
   "id": "faf6677c-7add-4cc4-b0a0-ad94e1d41846",
   "metadata": {},
   "outputs": [],
   "source": [
    "for i in range(size(k,m)):\n",
    "    for j in range(size(k,m)):\n",
    "        w[i][j] = normal(0,1) #loops through all possible elements of w and samples a normal distribution"
   ]
  },
  {
   "cell_type": "code",
   "execution_count": 22,
   "id": "84b7ba5e-518d-4edb-b1aa-55e999f6b055",
   "metadata": {},
   "outputs": [],
   "source": [
    "w_T = np.transpose(w) #determines the transpose of the matrix w"
   ]
  },
  {
   "cell_type": "code",
   "execution_count": 23,
   "id": "61a7c10b-2354-4885-a715-d4fdcdb40e89",
   "metadata": {},
   "outputs": [],
   "source": [
    "W = (w+w_T)/2 #ensuring that the random matrix W is real and symmetric"
   ]
  },
  {
   "cell_type": "code",
   "execution_count": 24,
   "id": "f8bda540-7bf4-4ca6-8dec-f485b4591e4b",
   "metadata": {},
   "outputs": [],
   "source": [
    "H = H_0 + W #H is the hamiltonian with interactions due to the random matrix (non-diagonal)"
   ]
  },
  {
   "cell_type": "markdown",
   "id": "625d40f1-0312-4afb-92bb-b01970f799c4",
   "metadata": {},
   "source": [
    "Diagonalisation of H:"
   ]
  },
  {
   "cell_type": "code",
   "execution_count": 25,
   "id": "4a808e0a-be79-45a6-a584-3013a12563c2",
   "metadata": {},
   "outputs": [],
   "source": [
    "hCUDA = CP.CUDAContext() #obtain CUDA context (only 1 needed)\n",
    "\n",
    "hCUBLAS = CP.CUBLASContext() \n",
    "hCUBLAS.Create() #create CUBLAS context (for basic linear algebra ops)\n",
    "\n",
    "hCUSolverDense = CP.CUSolverDenseContext()\n",
    "hCUSolverDense.Create() #create CUSolver Context (for dense matrix ops)"
   ]
  },
  {
   "cell_type": "code",
   "execution_count": 26,
   "id": "0ed9b116-4444-4ddf-a918-998f83829359",
   "metadata": {},
   "outputs": [],
   "source": [
    "#allocating memory on the CPU to fit a matrix of size size X size\n",
    "hHostMatrix = CP.CUDAHostMemory()\n",
    "hHostMatrix.Allocate2D(CP.CUDANumericSizeRD, size(k,m), size(k,m), CP.CUDAHostMemoryAllocFlags.PINNED)\n",
    "\n",
    "hHostVector = CP.CUDAHostMemory()\n",
    "hHostVector.Allocate1D(CP.CUDANumericSizeRD, size(k,m), CP.CUDAHostMemoryAllocFlags.PINNED)"
   ]
  },
  {
   "cell_type": "code",
   "execution_count": 27,
   "id": "0cc41d5d-5f82-43e9-98a6-315a3b20069b",
   "metadata": {},
   "outputs": [],
   "source": [
    "for i in range(size(k,m)):\n",
    "    for j in range(size(k,m)):\n",
    "        hHostMatrix.WriteRD(CP.CUDAMemoryPosition(i,j,0), H[i][j]) #initialising values"
   ]
  },
  {
   "cell_type": "code",
   "execution_count": 28,
   "id": "bd983c9f-a708-4dc1-b8d6-14a070f2c8f5",
   "metadata": {},
   "outputs": [],
   "source": [
    "#allocating memory on the GPU to fit a matrix of size size X size\n",
    "hDeviceMatrixA = CP.CUDADeviceMemory()\n",
    "hDeviceMatrixA.Allocate2D(CP.CUDANumericSizeRD, size(k,m), size(k,m))\n",
    "\n",
    "hDeviceVectorX = CP.CUDADeviceMemory()\n",
    "hDeviceVectorX.Allocate1D(CP.CUDANumericSizeRD, size(k,m))"
   ]
  },
  {
   "cell_type": "code",
   "execution_count": 29,
   "id": "16e2c9f1-afce-4734-92d5-272c52a1eeff",
   "metadata": {},
   "outputs": [],
   "source": [
    "hCUBLAS.SetMatrix(hDeviceMatrixA, CP.CUDAMemoryPosition(), hHostMatrix, CP.CUDAMemoryPosition(), CP.CUDAMemoryRegion(size(k,m),size(k,m),1)) #copy memory from CPU to GPU\n",
    "hCUDA.WaitForCurrentDevice() #sync"
   ]
  },
  {
   "cell_type": "code",
   "execution_count": 30,
   "id": "808fce80-f6a2-4556-a665-ad6e5ba87e4b",
   "metadata": {},
   "outputs": [],
   "source": [
    "#build and setup of solver\n",
    "hEigenSolver = CP.CUSolverDenseEigenValue(hCUSolverDense)\n",
    "hEigenSolver.SetMatrixA(hDeviceMatrixA)\n",
    "hEigenSolver.SetMatrixFillModeA(CP.CUBLASContextFillMode.UPPER)\n",
    "hEigenSolver.SetVectorX(hDeviceVectorX)\n",
    "hEigenSolver.SetAlgorithm(CP.CUSolverDenseEigenValueAlgorithm.QR) #householder reduction method???\n",
    "hEigenSolver.ComputeEigenVectors(True)"
   ]
  },
  {
   "cell_type": "code",
   "execution_count": 31,
   "id": "1e0e2ea7-e6b7-4c05-a195-51b4f5c5c4c9",
   "metadata": {},
   "outputs": [],
   "source": [
    "hEigenSolver.PrepareRD() #allocates workspace memory"
   ]
  },
  {
   "cell_type": "code",
   "execution_count": 32,
   "id": "3a036a82-79b5-424a-9009-82c678c702f7",
   "metadata": {},
   "outputs": [],
   "source": [
    "#solve and sync\n",
    "hEigenSolver.SolveRD()\n",
    "hCUDA.WaitForCurrentDevice()\n",
    "hEigenSolver.UpdateStateAfterSync()"
   ]
  },
  {
   "cell_type": "code",
   "execution_count": 33,
   "id": "0e45ae13-adfb-4eb4-be0c-00c558cac09b",
   "metadata": {},
   "outputs": [],
   "source": [
    "#copy memory from GPU to CPU\n",
    "hCUBLAS.GetMatrix(hHostMatrix, CP.CUDAMemoryPosition(), hDeviceMatrixA, CP.CUDAMemoryPosition(), CP.CUDAMemoryRegion(size(k,m), size(k,m), 1))\n",
    "hCUDA.WaitForCurrentDevice()\n",
    "\n",
    "hCUBLAS.GetVector(hHostVector, CP.CUDAMemoryPosition(), hDeviceVectorX, CP.CUDAMemoryPosition(), CP.CUDAMemoryRegion(size(k,m), 1, 1))\n",
    "hCUDA.WaitForCurrentDevice()"
   ]
  },
  {
   "cell_type": "code",
   "execution_count": 34,
   "id": "4e5bb9c2-b9b0-491c-906d-a73ea203d89c",
   "metadata": {},
   "outputs": [],
   "source": [
    "hPos = CP.CUDAMemoryPosition()"
   ]
  },
  {
   "cell_type": "code",
   "execution_count": 35,
   "id": "62988dae-456d-4915-89d4-58b9afe06c2e",
   "metadata": {},
   "outputs": [],
   "source": [
    "D = np.zeros((size(k,m), size(k,m))) #initialising matrix to be used to store the eigenvalues as diagonal elements\n",
    "P = np.zeros((size(k,m), size(k,m))) #initialising basis change matrix (H=PDP^-1)"
   ]
  },
  {
   "cell_type": "code",
   "execution_count": 36,
   "id": "ac53ed7b-3067-48c3-a427-0a0448fbc586",
   "metadata": {},
   "outputs": [],
   "source": [
    "for hPos.iX in range(size(k,m)):\n",
    "    D[hPos.iX][hPos.iX] = hHostVector.ReadRD(hPos) #sets the diagonal elements of the matrix to the eigenvalues computed using the above algorithm"
   ]
  },
  {
   "cell_type": "code",
   "execution_count": 37,
   "id": "67dec21e-d62a-4e4b-ba07-b2a774ba6aa1",
   "metadata": {},
   "outputs": [],
   "source": [
    "#need to prepare P matrix using the eigenvectors given by the above algorithm\n",
    "for hPos.iY in range(size(k,m)):\n",
    "    for hPos.iX in range(size(k,m)):\n",
    "        P[hPos.iY][hPos.iX] = hHostMatrix.ReadRD(hPos)"
   ]
  },
  {
   "cell_type": "code",
   "execution_count": 38,
   "id": "39912c29-a6d8-43a4-bfb3-b2416a4d01a2",
   "metadata": {},
   "outputs": [],
   "source": [
    "P_T = np.transpose(P)"
   ]
  },
  {
   "cell_type": "code",
   "execution_count": 39,
   "id": "aaff679a-fad4-42c9-b8b7-d355a9090e50",
   "metadata": {},
   "outputs": [],
   "source": [
    "#free memory and destroy contexts\n",
    "hDeviceVectorX.Free()\n",
    "hDeviceMatrixA.Free()\n",
    "hHostVector.Free()\n",
    "hHostMatrix.Free()\n",
    "\n",
    "hCUSolverDense.Destroy()\n",
    "hCUBLAS.Destroy()"
   ]
  },
  {
   "cell_type": "code",
   "execution_count": 41,
   "id": "7769418a-d08d-4067-8c9c-77d8574a55d6",
   "metadata": {},
   "outputs": [],
   "source": [
    "#need time evolution of the D matrix\n",
    "def D_evo(t):\n",
    "    '''Function that produces the D matrix for a given time t (time evolution of D matrix)'''\n",
    "    D_ev = np.zeros((size(k,m), size(k,m)), dtype=complex)\n",
    "    \n",
    "    for x in range(size(k,m)):\n",
    "        D_ev[x][x] = np.exp(-1j*D[x][x]*t/hbar) #calculates time evolution of the diagonal elements\n",
    "    return D_ev"
   ]
  },
  {
   "cell_type": "code",
   "execution_count": 42,
   "id": "8279e55e-6ae6-4501-9c24-f578af36f9fd",
   "metadata": {},
   "outputs": [],
   "source": [
    "#evolution operator\n",
    "def v_t(t):\n",
    "    '''Evolution operator for a given time t'''\n",
    "    \n",
    "    hCUBLAS = CP.CUBLASContext()\n",
    "    hCUBLAS.Create()\n",
    "    \n",
    "    hHostMatrix = CP.CUDAHostMemory()\n",
    "    hHostMatrix.Allocate2D(CP.CUDANumericSizeCD, size(k,m), size(k,m), CP.CUDAHostMemoryAllocFlags.PINNED)\n",
    "    \n",
    "    pass"
   ]
  },
  {
   "cell_type": "code",
   "execution_count": 114,
   "id": "b95a60a8-763a-4f87-9003-2daaa2f37ac8",
   "metadata": {},
   "outputs": [],
   "source": [
    "#matrix multiplication using CUDA is stored within the test folder\n",
    "#had issues with converting CUDAComplex64 type back to default python dtype\n",
    "#found that matmult using numpy was fast enough to be used (avoided the issue with the dtypes)"
   ]
  },
  {
   "cell_type": "code",
   "execution_count": 116,
   "id": "36331b36-286e-4108-b414-ee171d2b31e0",
   "metadata": {},
   "outputs": [],
   "source": [
    "D_exp = D_evo(1) # evolution matrix for a test time t=1"
   ]
  },
  {
   "cell_type": "code",
   "execution_count": 125,
   "id": "7fc6cc9e-0602-4d26-bc9b-2be8734e1a09",
   "metadata": {},
   "outputs": [],
   "source": [
    "left_mat = np.matmul(P, D_exp) #multiplying P*e^H"
   ]
  },
  {
   "cell_type": "code",
   "execution_count": 126,
   "id": "5fc0ad3f-5b3f-4a46-bed2-72e22d19cf51",
   "metadata": {},
   "outputs": [],
   "source": [
    "V_t = np.matmul(left_mat, P_T) #multiplying above by P_T"
   ]
  },
  {
   "cell_type": "code",
   "execution_count": 136,
   "id": "8f622f52-fc04-4429-82f9-8b9977af3026",
   "metadata": {},
   "outputs": [],
   "source": [
    "#need to map i to its corresponding state\n",
    "i_state_map = {}\n",
    "sorted_states = list(sorted_dict.values())"
   ]
  },
  {
   "cell_type": "code",
   "execution_count": 140,
   "id": "7abe7f68-4d05-4122-87a9-0d8c1d003ef5",
   "metadata": {},
   "outputs": [],
   "source": [
    "for i in range(size(k,m)):\n",
    "    i_state_map[i] = sorted_states[i] #looping through all states and adding them to a dictionary i: state_i"
   ]
  },
  {
   "cell_type": "code",
   "execution_count": 142,
   "id": "6d60c1e1-fd10-4db1-9735-5e42db636a01",
   "metadata": {},
   "outputs": [
    {
     "data": {
      "text/plain": [
       "(1, 1, 1, 1, 1, 0, 0, 0, 0, 0)"
      ]
     },
     "execution_count": 142,
     "metadata": {},
     "output_type": "execute_result"
    }
   ],
   "source": [
    "#can determine what the i-th state is by running the line below (e.g. the ground state i=0:)\n",
    "i_state_map[0]"
   ]
  },
  {
   "cell_type": "code",
   "execution_count": 151,
   "id": "7e328b3d-c9c0-494a-bcfa-890689c087a3",
   "metadata": {},
   "outputs": [
    {
     "data": {
      "text/plain": [
       "(0, 1, 0, 1, 1, 0, 1, 0, 1, 0)"
      ]
     },
     "execution_count": 151,
     "metadata": {},
     "output_type": "execute_result"
    }
   ],
   "source": [
    "#extract the evolution of some initial state, in this example, will use a random state located at i=107\n",
    "i_state_map[107]"
   ]
  },
  {
   "cell_type": "code",
   "execution_count": 166,
   "id": "aa0987bc-77dc-4d00-8e39-295c48ab0573",
   "metadata": {},
   "outputs": [],
   "source": [
    "evol_state = V_t[107]"
   ]
  },
  {
   "cell_type": "code",
   "execution_count": 173,
   "id": "249e556b-a31d-460f-b0d9-0e1ab0a83b82",
   "metadata": {},
   "outputs": [
    {
     "data": {
      "text/plain": [
       "array([ 0.1020002 +0.01405032j,  0.02366482-0.05418718j,\n",
       "       -0.07302603+0.05302706j, -0.03622644-0.02436115j,\n",
       "        0.02694645+0.03217137j,  0.0030958 -0.05358424j,\n",
       "       -0.04204231-0.02517234j,  0.03995545-0.07142259j,\n",
       "        0.02159891-0.00535595j, -0.02022204+0.03344525j,\n",
       "       -0.06067271+0.02215706j,  0.02474552-0.00520561j,\n",
       "        0.02128397+0.02131918j, -0.02361137+0.036986j  ,\n",
       "        0.03079174-0.09704787j,  0.01019254+0.06695411j,\n",
       "        0.00747599+0.00113359j,  0.00891727-0.00522452j,\n",
       "       -0.06150178+0.03846958j,  0.09081588+0.02332973j,\n",
       "        0.0751803 -0.07535349j, -0.00573995+0.00577885j,\n",
       "        0.05618795+0.03362786j, -0.06710458-0.00050705j,\n",
       "       -0.01980946+0.0026313j ,  0.0535132 -0.00648618j,\n",
       "       -0.02998242-0.02628335j, -0.02194163-0.0297712j ,\n",
       "        0.03558433+0.06168511j, -0.0077313 -0.02958209j,\n",
       "        0.03873579+0.01011756j,  0.01540632-0.00526162j,\n",
       "        0.06724932+0.05718741j,  0.0084794 +0.00681975j,\n",
       "       -0.05293041+0.09635241j, -0.04477915+0.05003202j,\n",
       "       -0.0259336 +0.02305611j, -0.05020513-0.00294355j,\n",
       "        0.00528662-0.0911878j ,  0.10841263-0.00477943j,\n",
       "       -0.0310559 -0.04936273j,  0.02084034+0.01550355j,\n",
       "        0.03827331+0.01521237j, -0.01904029+0.01479824j,\n",
       "        0.00691254+0.06150675j,  0.06438478-0.00833007j,\n",
       "        0.02400111+0.07008156j,  0.0018148 +0.07196302j,\n",
       "       -0.03812633-0.04967912j, -0.03366553+0.09116329j,\n",
       "        0.09178987-0.0034169j , -0.02469739-0.01345555j,\n",
       "       -0.02144668-0.02183932j, -0.07104584+0.05706626j,\n",
       "       -0.07577283-0.0427931j , -0.02728151+0.06623131j,\n",
       "        0.07916203+0.0370511j , -0.00590874+0.0592953j ,\n",
       "        0.05135137+0.06779213j,  0.00694884-0.01483711j,\n",
       "        0.03245936-0.00713597j, -0.05477484-0.06881016j,\n",
       "       -0.01765562-0.02840926j, -0.02464613+0.06417854j,\n",
       "       -0.04644227-0.00326464j, -0.02818813-0.02297142j,\n",
       "        0.00116193-0.00016339j,  0.06265118-0.11291778j,\n",
       "       -0.01085562-0.04009824j,  0.05109141+0.00899299j,\n",
       "        0.03236693+0.06028287j, -0.01727876+0.03543974j,\n",
       "        0.00270344-0.0230686j ,  0.02576203-0.05797578j,\n",
       "       -0.03783276+0.02310654j, -0.02290618+0.03994937j,\n",
       "       -0.00038749-0.05579368j, -0.01796925-0.04054898j,\n",
       "       -0.00318328-0.03634848j, -0.06268549+0.00017858j,\n",
       "       -0.02359989-0.04002482j,  0.11085843+0.00813445j,\n",
       "       -0.03683637-0.04785961j, -0.00143272+0.01990274j,\n",
       "       -0.14091938-0.02175932j,  0.05717303+0.03144575j,\n",
       "        0.0122544 +0.02458924j, -0.0003552 -0.02603387j,\n",
       "       -0.04339471-0.01370998j, -0.06152459-0.00051788j,\n",
       "       -0.08110989+0.01728327j,  0.05736988-0.00333529j,\n",
       "       -0.05690557-0.00975302j,  0.01559433+0.08208152j,\n",
       "        0.0373115 -0.07343972j,  0.06011262+0.04241937j,\n",
       "       -0.02121789+0.05975845j,  0.04264124+0.0162496j ,\n",
       "       -0.00315002-0.03891511j,  0.01295183+0.0774852j ,\n",
       "       -0.08450172-0.00584594j, -0.02096594+0.08886053j,\n",
       "        0.04208545-0.08169825j,  0.02536127+0.0199654j ,\n",
       "        0.03484525+0.01382479j,  0.01617564+0.01893008j,\n",
       "        0.02128341-0.05277367j, -0.01010802-0.06793812j,\n",
       "        0.05776854+0.01633888j,  0.04910097-0.0213892j ,\n",
       "        0.02855248+0.04048815j, -0.01088306-0.04915926j,\n",
       "       -0.04303255+0.04792434j,  0.01759882+0.03292122j,\n",
       "       -0.04045224-0.06091585j,  0.02071184-0.03575685j,\n",
       "       -0.05675448+0.03664827j,  0.0450567 +0.02135855j,\n",
       "        0.04057755-0.02056402j,  0.00798476+0.01291454j,\n",
       "        0.01990062-0.05011992j, -0.11252626-0.02190765j,\n",
       "        0.03311059-0.00757966j, -0.04596129+0.02876566j,\n",
       "        0.07495612-0.06823921j, -0.02987801+0.03627111j,\n",
       "       -0.08107303-0.07245093j, -0.04763185-0.0041646j ,\n",
       "        0.00592405+0.01089961j,  0.10589058+0.07161327j,\n",
       "        0.01661952-0.03579322j, -0.0759763 +0.05550149j,\n",
       "       -0.04379633-0.00396551j,  0.01916839-0.02956737j,\n",
       "        0.01859462+0.0017704j ,  0.00219679-0.04881429j,\n",
       "       -0.03420144-0.00086341j, -0.05979027-0.02454294j,\n",
       "       -0.07666221-0.0232502j , -0.03227495+0.02945526j,\n",
       "        0.07242919-0.04590639j, -0.02876434+0.03839486j,\n",
       "       -0.02496958-0.06547218j,  0.01042168-0.03307996j,\n",
       "        0.0148556 +0.02105064j, -0.06931345+0.07173058j,\n",
       "       -0.03685782-0.05079232j,  0.01019738-0.03635438j,\n",
       "        0.02129773+0.0228155j ,  0.04476887-0.03501786j,\n",
       "       -0.05172422+0.03381444j, -0.02056284+0.07480024j,\n",
       "        0.0157555 -0.04321642j, -0.0259325 -0.01112855j,\n",
       "       -0.05759341-0.01443148j, -0.05599388+0.04164698j,\n",
       "       -0.03051342-0.01888332j, -0.05202953+0.04045111j,\n",
       "        0.04498826+0.00573003j,  0.0051695 +0.0169207j ,\n",
       "        0.02940426+0.11190373j, -0.02310373+0.02871233j,\n",
       "        0.00429286-0.00020011j,  0.00538598-0.01455133j,\n",
       "        0.00962756+0.01252502j, -0.00355012+0.09291901j,\n",
       "        0.00909006-0.03037752j, -0.00799896+0.00230115j,\n",
       "        0.00345491+0.01978519j, -0.07364473-0.03279478j,\n",
       "        0.1028948 +0.01404363j, -0.05386184-0.00980958j,\n",
       "        0.01150174+0.05256938j,  0.00533903+0.04445869j,\n",
       "       -0.04994275+0.02366546j, -0.07665974+0.03494553j,\n",
       "        0.00979776+0.03705104j, -0.03207978-0.02601932j,\n",
       "        0.02365605-0.05215072j, -0.02132574+0.01016202j,\n",
       "       -0.06119495+0.06162136j,  0.03067002+0.10559933j,\n",
       "        0.00323787+0.05494934j,  0.01804677-0.00802362j,\n",
       "       -0.05347122+0.11673809j,  0.0371957 -0.05773644j,\n",
       "       -0.02446069-0.0598033j ,  0.00700502+0.0197861j ,\n",
       "        0.06274293-0.00029238j,  0.04752498-0.03231341j,\n",
       "        0.03020468+0.02423574j,  0.05896469-0.02312952j,\n",
       "        0.06056209+0.02568616j, -0.00206716+0.10062484j,\n",
       "       -0.02151881+0.05752212j, -0.00964825+0.02209736j,\n",
       "        0.0334415 +0.01895227j,  0.00706732-0.03184323j,\n",
       "        0.03107158-0.06743286j,  0.05619373-0.0378229j ,\n",
       "        0.02501865-0.07333072j, -0.02854162-0.06932368j,\n",
       "       -0.01645046+0.07918144j,  0.01211498+0.03239814j,\n",
       "       -0.00612949+0.02260135j,  0.03801444+0.01247486j,\n",
       "       -0.03075906+0.00642406j, -0.0282384 -0.01332067j,\n",
       "       -0.02846939+0.03587897j,  0.02315111-0.03169118j,\n",
       "       -0.01538124+0.0158455j , -0.00338086+0.02855715j,\n",
       "        0.08041635+0.0526785j , -0.05503274-0.09516103j,\n",
       "        0.03643493+0.04052219j,  0.08938585-0.03048561j,\n",
       "       -0.05003988-0.12055736j,  0.00891336-0.0754961j ,\n",
       "       -0.02226928+0.01506563j, -0.06775495-0.04427944j,\n",
       "       -0.05444567-0.02278823j, -0.06691844+0.00117118j,\n",
       "        0.02201838-0.02602456j, -0.0922188 -0.02266646j,\n",
       "       -0.05755608-0.01577326j, -0.00826272-0.03322205j,\n",
       "        0.07103281-0.03991605j, -0.03096067-0.04882891j,\n",
       "       -0.02531053+0.01833284j,  0.10430552-0.03455093j,\n",
       "       -0.06681526-0.0209708j , -0.05086747-0.05294511j,\n",
       "       -0.02553094+0.03764071j, -0.03763951-0.03423644j,\n",
       "       -0.05574307+0.05390376j,  0.06851034-0.02615497j,\n",
       "        0.04463336+0.06517427j,  0.05294626-0.01727637j,\n",
       "       -0.02661501-0.04843384j, -0.00120144+0.01326733j,\n",
       "       -0.02426258+0.04903394j,  0.08123136-0.00609363j,\n",
       "       -0.01234221+0.01038701j, -0.04602955-0.00646835j,\n",
       "       -0.01220211-0.03840428j,  0.03688081+0.03866959j,\n",
       "        0.0264389 -0.03584599j,  0.04599343+0.02226096j,\n",
       "        0.01379927+0.03408257j,  0.00541499-0.01733419j,\n",
       "        0.01469278+0.0312611j ,  0.01429554+0.05092852j])"
      ]
     },
     "execution_count": 173,
     "metadata": {},
     "output_type": "execute_result"
    }
   ],
   "source": [
    "evol_state"
   ]
  },
  {
   "cell_type": "code",
   "execution_count": null,
   "id": "236da75c-d673-49a8-b570-fd78cb393de4",
   "metadata": {},
   "outputs": [],
   "source": []
  }
 ],
 "metadata": {
  "kernelspec": {
   "display_name": "Python 3 (ipykernel)",
   "language": "python",
   "name": "python3"
  },
  "language_info": {
   "codemirror_mode": {
    "name": "ipython",
    "version": 3
   },
   "file_extension": ".py",
   "mimetype": "text/x-python",
   "name": "python",
   "nbconvert_exporter": "python",
   "pygments_lexer": "ipython3",
   "version": "3.7.8"
  }
 },
 "nbformat": 4,
 "nbformat_minor": 5
}
