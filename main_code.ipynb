{
 "cells": [
  {
   "cell_type": "code",
   "execution_count": 1,
   "id": "a401e32f-d40e-4395-b15c-53fcd689874a",
   "metadata": {},
   "outputs": [],
   "source": [
    "import numpy as np\n",
    "from numpy.random import normal\n",
    "import matplotlib.pyplot as plt\n",
    "import math\n",
    "import itertools\n",
    "import CUDAPython as CP\n",
    "from scipy.constants import hbar\n",
    "%matplotlib inline"
   ]
  },
  {
   "cell_type": "code",
   "execution_count": 2,
   "id": "9a0e81cf-f4dc-4f1d-b5f6-e13746665717",
   "metadata": {},
   "outputs": [],
   "source": [
    "#sets number of levels (k) and number of fermions (m)\n",
    "k = 10\n",
    "m = 5"
   ]
  },
  {
   "cell_type": "markdown",
   "id": "4f117f84-2a91-4bad-8ce0-931fe2434d8f",
   "metadata": {},
   "source": [
    "Generating single fermion energy levels:"
   ]
  },
  {
   "cell_type": "code",
   "execution_count": 3,
   "id": "5438af43-a94f-40b9-8a9a-b019b4df1838",
   "metadata": {},
   "outputs": [],
   "source": [
    "def generate_energies(k):\n",
    "    '''generates ordered array of k distinct energy levels'''\n",
    "    energies = np.empty(k)\n",
    "    count=0\n",
    "    while(count!=k):\n",
    "        energies[count]=normal(0,1) #samples a normal distribution k times\n",
    "        count+=1\n",
    "    min_ar = np.min(energies) #minimum of energies to use for scaling\n",
    "    scaled_ar = energies + abs(min_ar) #scaled array is generated\n",
    "    return np.sort(scaled_ar) #output is a scaled, sorted array of size k"
   ]
  },
  {
   "cell_type": "code",
   "execution_count": 4,
   "id": "a2d686de-8982-4a9d-9a90-73992cde28a1",
   "metadata": {},
   "outputs": [],
   "source": [
    "arr = generate_energies(k)"
   ]
  },
  {
   "cell_type": "code",
   "execution_count": 5,
   "id": "468c7ea9-452f-42c5-bea2-3dbfe27ffbf5",
   "metadata": {},
   "outputs": [
    {
     "data": {
      "text/plain": [
       "Text(0, 0.5, 'Energy level')"
      ]
     },
     "execution_count": 5,
     "metadata": {},
     "output_type": "execute_result"
    },
    {
     "data": {
      "image/png": "[encoded data removed]",
      "text/plain": [
       "<Figure size 432x288 with 1 Axes>"
      ]
     },
     "metadata": {
      "needs_background": "light"
     },
     "output_type": "display_data"
    }
   ],
   "source": [
    "fig, axes = plt.subplots()\n",
    "axes.plot(arr,np.linspace(1,k,k))\n",
    "axes.spines['top'].set_color('none')\n",
    "axes.spines['right'].set_color('none')\n",
    "axes.set_xlabel('Energy')\n",
    "axes.set_ylabel('Energy level')"
   ]
  },
  {
   "cell_type": "markdown",
   "id": "fc83092b-6011-4dc7-999c-d3423276f071",
   "metadata": {},
   "source": [
    "Considering m fermions on k single fermion energy levels:"
   ]
  },
  {
   "cell_type": "code",
   "execution_count": 6,
   "id": "527c3ece-3407-4f39-aac1-1ad0fb5240cf",
   "metadata": {},
   "outputs": [],
   "source": [
    "def size(k, m):\n",
    "    '''determines the number of combination of m fermions on k energy levels'''\n",
    "    return int(math.factorial(k)/((math.factorial(k-m))*(math.factorial(m))))\n",
    "\n",
    "def ground_state(k, m):\n",
    "    '''initialises a ground state based on number of fermions (m) and number of energy levels (k)\n",
    "    \n",
    "    e.g. for k=10, m=5:\n",
    "    ground state is [1,1,1,1,1,0,0,0,0,0]'''\n",
    "    state = np.zeros(k, dtype=int)\n",
    "    for i in range(m):\n",
    "        state[i] = 1\n",
    "    return state\n",
    "\n",
    "def permutations(state):\n",
    "    '''returns a list of possible permutations of a given binary state'''\n",
    "    return list(set(itertools.permutations(state)))    "
   ]
  },
  {
   "cell_type": "code",
   "execution_count": 7,
   "id": "44e2ffd6-4899-4031-b20c-71ebd80281de",
   "metadata": {},
   "outputs": [],
   "source": [
    "state = ground_state(k, m) #initialises ground state"
   ]
  },
  {
   "cell_type": "code",
   "execution_count": 8,
   "id": "3a40909e-6e7d-4554-874a-4428d7442d7b",
   "metadata": {},
   "outputs": [
    {
     "data": {
      "text/plain": [
       "array([1, 1, 1, 1, 1, 0, 0, 0, 0, 0])"
      ]
     },
     "execution_count": 8,
     "metadata": {},
     "output_type": "execute_result"
    }
   ],
   "source": [
    "state"
   ]
  },
  {
   "cell_type": "code",
   "execution_count": 9,
   "id": "88564a13-6819-4e94-8af1-4bf99907b265",
   "metadata": {},
   "outputs": [],
   "source": [
    "states = permutations(state) #list of possible permutations of the ground state\n",
    "\n",
    "energy_state = {} #empty dict for mapping energies to their corresponding state {energy: state}\n",
    "energies = np.empty(size(k,m))\n",
    "\n",
    "for state in range(len(states)): #looping through all possible states\n",
    "    energy = np.dot(states[state],arr) #computes energy of a given state via a dot product; energy and state arrays can be thought of as vectors -> dot product\n",
    "    energies[state] = energy\n",
    "    energy_state[energy] = states[state] #mapping the energy to its given state\n",
    "\n",
    "sorted_energies = np.sort(energies) #sorting the energies in ascending order\n",
    "\n",
    "sorted_dict = {} #empty dict to be used in mapping SORTED energies to their states (useful later)\n",
    "\n",
    "for energy in sorted_energies:\n",
    "    sorted_dict[energy] = energy_state[energy] #mapping sorted energies to their corresponding states\n",
    "    \n",
    "#need to map i to its corresponding state\n",
    "i_state_map = {}\n",
    "sorted_states = list(sorted_dict.values())\n",
    "\n",
    "for i in range(size(k,m)):\n",
    "    i_state_map[i] = sorted_states[i] #looping through all states and adding them to a dictionary i: state_i"
   ]
  },
  {
   "cell_type": "code",
   "execution_count": 10,
   "id": "7a7fd10f-2910-4a70-81c5-7b3a9f9fdbdd",
   "metadata": {},
   "outputs": [
    {
     "data": {
      "text/plain": [
       "Text(0, 0.5, 'Energy eigenvalues')"
      ]
     },
     "execution_count": 10,
     "metadata": {},
     "output_type": "execute_result"
    },
    {
     "data": {
      "image/png": "[encoded data removed]",
      "text/plain": [
       "<Figure size 432x288 with 1 Axes>"
      ]
     },
     "metadata": {
      "needs_background": "light"
     },
     "output_type": "display_data"
    }
   ],
   "source": [
    "fig, axes = plt.subplots()\n",
    "axes.plot(np.linspace(1,size(k,m),size(k,m)),sorted_energies)\n",
    "axes.spines['top'].set_color('none')\n",
    "axes.spines['right'].set_color('none')\n",
    "axes.set_xlabel('State')\n",
    "axes.set_ylabel('Energy eigenvalues')"
   ]
  },
  {
   "cell_type": "code",
   "execution_count": 11,
   "id": "107bc4f3-ca78-4f90-bc75-dfe6b4d09583",
   "metadata": {},
   "outputs": [],
   "source": [
    "H_0 = np.zeros((size(k,m),size(k,m))) #generating a zero matrix which has dimensions of the number of permutations of the initial state\n",
    "\n",
    "for i in range(size(k,m)):\n",
    "    H_0[i][i] = sorted_energies[i] #filling the diagonals with the energy eigenvalues"
   ]
  },
  {
   "cell_type": "code",
   "execution_count": 12,
   "id": "8d709bde-b881-4ff6-aeb2-269798abc835",
   "metadata": {},
   "outputs": [],
   "source": [
    "w = np.empty((size(k,m),size(k,m))) #generating an empty matrix with the same dimensions as H_0\n",
    "\n",
    "for i in range(size(k,m)):\n",
    "    for j in range(size(k,m)):\n",
    "        w[i][j] = normal(0,1) #loops through all possible elements of w and samples a normal distribution"
   ]
  },
  {
   "cell_type": "code",
   "execution_count": 13,
   "id": "1bfeb25c-5ed7-4fbe-ae8f-c70d64fc79d2",
   "metadata": {},
   "outputs": [],
   "source": [
    "w_T = np.transpose(w) #determines the transpose of the matrix w\n",
    "\n",
    "W = (w+w_T)/2 #ensuring that the random matrix W is real and symmetric\n",
    "\n",
    "H = H_0 + W #H is the hamiltonian with interactions due to the random matrix (non-diagonal)"
   ]
  },
  {
   "cell_type": "markdown",
   "id": "625d40f1-0312-4afb-92bb-b01970f799c4",
   "metadata": {},
   "source": [
    "Diagonalisation of H:"
   ]
  },
  {
   "cell_type": "code",
   "execution_count": 14,
   "id": "b96a708c-835c-492d-ba3f-4e2c22f64526",
   "metadata": {},
   "outputs": [],
   "source": [
    "hCUDA = CP.CUDAContext() #obtain CUDA context (only 1 needed)\n",
    "\n",
    "hCUBLAS = CP.CUBLASContext() \n",
    "hCUBLAS.Create() #create CUBLAS context (for basic linear algebra ops)\n",
    "\n",
    "hCUSolverDense = CP.CUSolverDenseContext()\n",
    "hCUSolverDense.Create() #create CUSolver Context (for dense matrix ops)\n",
    "\n",
    "#allocating memory on the CPU to fit a matrix of size size X size\n",
    "hHostMatrix = CP.CUDAHostMemory()\n",
    "hHostMatrix.Allocate2D(CP.CUDANumericSizeRD, size(k,m), size(k,m), CP.CUDAHostMemoryAllocFlags.PINNED)\n",
    "\n",
    "hHostVector = CP.CUDAHostMemory()\n",
    "hHostVector.Allocate1D(CP.CUDANumericSizeRD, size(k,m), CP.CUDAHostMemoryAllocFlags.PINNED)\n",
    "\n",
    "for i in range(size(k,m)):\n",
    "    for j in range(size(k,m)):\n",
    "        hHostMatrix.WriteRD(CP.CUDAMemoryPosition(i,j,0), H[i][j]) #initialising values\n",
    "\n",
    "#allocating memory on the GPU to fit a matrix of size size X size\n",
    "hDeviceMatrixA = CP.CUDADeviceMemory()\n",
    "hDeviceMatrixA.Allocate2D(CP.CUDANumericSizeRD, size(k,m), size(k,m))\n",
    "\n",
    "hDeviceVectorX = CP.CUDADeviceMemory()\n",
    "hDeviceVectorX.Allocate1D(CP.CUDANumericSizeRD, size(k,m))\n",
    "\n",
    "hCUBLAS.SetMatrix(hDeviceMatrixA, CP.CUDAMemoryPosition(), hHostMatrix, CP.CUDAMemoryPosition(), CP.CUDAMemoryRegion(size(k,m),size(k,m),1)) #copy memory from CPU to GPU\n",
    "hCUDA.WaitForCurrentDevice() #sync\n",
    "\n",
    "#build and setup of solver\n",
    "hEigenSolver = CP.CUSolverDenseEigenValue(hCUSolverDense)\n",
    "hEigenSolver.SetMatrixA(hDeviceMatrixA)\n",
    "hEigenSolver.SetMatrixFillModeA(CP.CUBLASContextFillMode.UPPER)\n",
    "hEigenSolver.SetVectorX(hDeviceVectorX)\n",
    "hEigenSolver.SetAlgorithm(CP.CUSolverDenseEigenValueAlgorithm.QR) #householder reduction method???\n",
    "hEigenSolver.ComputeEigenVectors(True)\n",
    "\n",
    "hEigenSolver.PrepareRD() #allocates workspace memory\n",
    "\n",
    "#solve and sync\n",
    "hEigenSolver.SolveRD()\n",
    "hCUDA.WaitForCurrentDevice()\n",
    "hEigenSolver.UpdateStateAfterSync()\n",
    "\n",
    "#copy memory from GPU to CPU\n",
    "hCUBLAS.GetMatrix(hHostMatrix, CP.CUDAMemoryPosition(), hDeviceMatrixA, CP.CUDAMemoryPosition(), CP.CUDAMemoryRegion(size(k,m), size(k,m), 1))\n",
    "hCUDA.WaitForCurrentDevice()\n",
    "\n",
    "hCUBLAS.GetVector(hHostVector, CP.CUDAMemoryPosition(), hDeviceVectorX, CP.CUDAMemoryPosition(), CP.CUDAMemoryRegion(size(k,m), 1, 1))\n",
    "hCUDA.WaitForCurrentDevice()\n",
    "\n",
    "hPos = CP.CUDAMemoryPosition()\n",
    "\n",
    "D = np.zeros((size(k,m), size(k,m))) #initialising matrix to be used to store the eigenvalues as diagonal elements\n",
    "P = np.zeros((size(k,m), size(k,m))) #initialising basis change matrix (H=PDP^-1)\n",
    "\n",
    "for hPos.iX in range(size(k,m)):\n",
    "    D[hPos.iX][hPos.iX] = hHostVector.ReadRD(hPos) #sets the diagonal elements of the matrix to the eigenvalues computed using the above algorithm\n",
    "\n",
    "#need to prepare P matrix using the eigenvectors given by the above algorithm\n",
    "for hPos.iY in range(size(k,m)):\n",
    "    for hPos.iX in range(size(k,m)):\n",
    "        P[hPos.iY][hPos.iX] = hHostMatrix.ReadRD(hPos)\n",
    "\n",
    "P_T = np.transpose(P)\n",
    "\n",
    "#free memory and destroy contexts\n",
    "hDeviceVectorX.Free()\n",
    "hDeviceMatrixA.Free()\n",
    "hHostVector.Free()\n",
    "hHostMatrix.Free()\n",
    "\n",
    "hCUSolverDense.Destroy()\n",
    "hCUBLAS.Destroy()"
   ]
  },
  {
   "cell_type": "code",
   "execution_count": 15,
   "id": "7769418a-d08d-4067-8c9c-77d8574a55d6",
   "metadata": {},
   "outputs": [],
   "source": [
    "#need time evolution of the D matrix\n",
    "def D_evo(t):\n",
    "    '''Function that produces the D matrix for a given time t (time evolution of D matrix)'''\n",
    "    D_ev = np.zeros((size(k,m), size(k,m)), dtype=complex)\n",
    "    \n",
    "    for x in range(size(k,m)):\n",
    "        D_ev[x][x] = np.exp(-1j*D[x][x]*t/hbar) #calculates time evolution of the diagonal elements\n",
    "    return D_ev"
   ]
  },
  {
   "cell_type": "code",
   "execution_count": 16,
   "id": "b95a60a8-763a-4f87-9003-2daaa2f37ac8",
   "metadata": {},
   "outputs": [],
   "source": [
    "#matrix multiplication using CUDA is stored within the test folder\n",
    "#had issues with converting CUDAComplex64 type back to default python dtype\n",
    "#found that matmult using numpy was fast enough to be used (avoided the issue with the dtypes)"
   ]
  },
  {
   "cell_type": "code",
   "execution_count": 17,
   "id": "cef281ab-37c9-4d07-87dc-8f3b2c97ac94",
   "metadata": {},
   "outputs": [],
   "source": [
    "def V_t(t):\n",
    "    '''Evolution operator at time t'''\n",
    "    D_exp = D_evo(t) #evolution matrix for a time t\n",
    "    left_mat = np.matmul(P, D_exp) #multiplying P*e^D\n",
    "    return np.matmul(left_mat, P_T) #multiplying above by P_T"
   ]
  },
  {
   "cell_type": "code",
   "execution_count": 18,
   "id": "1f713984-775d-4ddf-a3a9-c686ca843aee",
   "metadata": {},
   "outputs": [],
   "source": [
    "def coef(dt, it, init_state):\n",
    "    '''Returns an array of weighted coefficients for an evolved state for a given time step dt, the iteration it, and some initial state init_state'''\n",
    "    evolved_state = V_t(dt*it)[init_state] #calculates evolution of the state and extracts the final step\n",
    "    evolved_state_conj = np.conj(evolved_state) #calculates the complex conjugate of the coefficients\n",
    "    coefficients = np.empty(size(k,m))\n",
    "    \n",
    "    for i in range(size(k,m)):\n",
    "        coefficients[i] = np.dot(evolved_state[i].real, evolved_state_conj[i].real) + np.dot(evolved_state[i].imag, evolved_state_conj[i].imag) #calculates the inner product of the evolved state and its complex conjugate\n",
    "    return coefficients"
   ]
  },
  {
   "cell_type": "code",
   "execution_count": 19,
   "id": "c1512f2f-9c4d-41ee-954d-eab539dfe174",
   "metadata": {},
   "outputs": [],
   "source": [
    "def occupation_number(dt, it, init_state, lev):\n",
    "    '''Evaluates the occupation number for a given level lev'''\n",
    "    _sum = 0\n",
    "    coefs = coef(dt, it, init_state) #calls function that calculates the weightings of each state\n",
    "    \n",
    "    for i in range(size(k,m)):\n",
    "        _sum += np.abs(coefs[i])*i_state_map[i][lev] #dot product between the weights and states\n",
    "    return _sum"
   ]
  },
  {
   "cell_type": "code",
   "execution_count": 23,
   "id": "d422ea90-300e-467c-8e42-5b44e7e89e2d",
   "metadata": {},
   "outputs": [],
   "source": [
    "t = np.empty(500)\n",
    "k0 = np.empty(500)\n",
    "k1 = np.empty(500)\n",
    "k2 = np.empty(500)\n",
    "k3 = np.empty(500)\n",
    "k4 = np.empty(500)\n",
    "dt = hbar/2000"
   ]
  },
  {
   "cell_type": "code",
   "execution_count": 26,
   "id": "6c07aa1a-c238-4062-a99e-22e68633fc0b",
   "metadata": {},
   "outputs": [],
   "source": [
    "for i in range(500):\n",
    "    t[i] = dt*i\n",
    "    k0[i] = occupation_number(dt, i, 67, 0)\n",
    "    k1[i] = occupation_number(dt, i, 67, 1)\n",
    "    k2[i] = occupation_number(dt, i, 67, 2)\n",
    "    k3[i] = occupation_number(dt, i, 67, 3)\n",
    "    k4[i] = occupation_number(dt, i, 67, 4)"
   ]
  },
  {
   "cell_type": "code",
   "execution_count": 27,
   "id": "e012d8ff-bfe2-48ff-af76-fed5326a2547",
   "metadata": {},
   "outputs": [
    {
     "data": {
      "text/plain": [
       "<matplotlib.legend.Legend at 0x26aa03a8e88>"
      ]
     },
     "execution_count": 27,
     "metadata": {},
     "output_type": "execute_result"
    },
    {
     "data": {
      "image/png": "[encoded data removed]",
      "text/plain": [
       "<Figure size 1152x432 with 1 Axes>"
      ]
     },
     "metadata": {
      "needs_background": "light"
     },
     "output_type": "display_data"
    }
   ],
   "source": [
    "fig, axes = plt.subplots(figsize=((16,6)))\n",
    "axes.plot(t,k0, label='k = 0')\n",
    "axes.plot(t,k1, label='k = 1')\n",
    "axes.plot(t,k2, label='k = 2')\n",
    "axes.plot(t,k3, label='k = 3')\n",
    "axes.plot(t,k4, label='k = 4')\n",
    "axes.set_xlabel(\"Time\")\n",
    "axes.set_ylabel(\"Occupation number per orbital k\")\n",
    "axes.legend()"
   ]
  },
  {
   "cell_type": "code",
   "execution_count": null,
   "id": "31dac34a-256c-47b9-ae1e-fd7efa207b96",
   "metadata": {},
   "outputs": [],
   "source": []
  }
 ],
 "metadata": {
  "kernelspec": {
   "display_name": "Python 3 (ipykernel)",
   "language": "python",
   "name": "python3"
  },
  "language_info": {
   "codemirror_mode": {
    "name": "ipython",
    "version": 3
   },
   "file_extension": ".py",
   "mimetype": "text/x-python",
   "name": "python",
   "nbconvert_exporter": "python",
   "pygments_lexer": "ipython3",
   "version": "3.7.8"
  }
 },
 "nbformat": 4,
 "nbformat_minor": 5
}
